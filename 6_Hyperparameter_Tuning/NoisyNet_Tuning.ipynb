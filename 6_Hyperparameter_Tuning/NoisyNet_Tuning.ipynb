{
  "cells": [
    {
      "cell_type": "markdown",
      "metadata": {
        "id": "Dh1T8q2B2HY4"
      },
      "source": [
        "# Reinforcement Learning (Open AI: Lunar Lander v2)"
      ]
    },
    {
      "attachments": {},
      "cell_type": "markdown",
      "metadata": {
        "id": "oSuGn5L8k0ff"
      },
      "source": [
        "- Member 1: Lim Hur (2112589)\n",
        "- Member 2: Yee Hang (2112675)"
      ]
    },
    {
      "cell_type": "markdown",
      "metadata": {
        "id": "fTCK0Hysk0ff"
      },
      "source": [
        "# Defining Objectives\n",
        "\n",
        "1. Develop and evaluate reinforcement learning algorithms to land an agent successfully on the lunar lander gym environment\n",
        "2. Investigate applications of reinforcement learning algorithms"
      ]
    },
    {
      "cell_type": "markdown",
      "metadata": {
        "id": "MXKmGT14P2et"
      },
      "source": [
        "## !! About notebook!!\n",
        "1. This notebook will evaluate our RL algorithms, and perform tuning on our final model\n"
      ]
    },
    {
      "cell_type": "markdown",
      "metadata": {
        "id": "9xftoIsbk0fg"
      },
      "source": [
        "# Project Initialization Setup"
      ]
    },
    {
      "cell_type": "code",
      "execution_count": null,
      "metadata": {
        "colab": {
          "base_uri": "https://localhost:8080/",
          "height": 1000
        },
        "id": "Z5lvEufG2HBX",
        "outputId": "71f9a65d-b5fb-4433-f121-1dcadbf19b9e"
      },
      "outputs": [
        {
          "name": "stdout",
          "output_type": "stream",
          "text": [
            "Looking in indexes: https://pypi.org/simple, https://us-python.pkg.dev/colab-wheels/public/simple/\n",
            "Collecting Box2D\n",
            "  Downloading Box2D-2.3.10-cp38-cp38-manylinux1_x86_64.whl (1.3 MB)\n",
            "\u001b[2K     \u001b[90m━━━━━━━━━━━━━━━━━━━━━━━━━━━━━━━━━━━━━━━━\u001b[0m \u001b[32m1.3/1.3 MB\u001b[0m \u001b[31m17.0 MB/s\u001b[0m eta \u001b[36m0:00:00\u001b[0m\n",
            "\u001b[?25hInstalling collected packages: Box2D\n",
            "Successfully installed Box2D-2.3.10\n",
            "Looking in indexes: https://pypi.org/simple, https://us-python.pkg.dev/colab-wheels/public/simple/\n",
            "Requirement already satisfied: box2d in /usr/local/lib/python3.8/dist-packages (2.3.10)\n",
            "Looking in indexes: https://pypi.org/simple, https://us-python.pkg.dev/colab-wheels/public/simple/\n",
            "Collecting box2d-py\n",
            "  Downloading box2d-py-2.3.8.tar.gz (374 kB)\n",
            "\u001b[2K     \u001b[90m━━━━━━━━━━━━━━━━━━━━━━━━━━━━━━━━━━━━━━━\u001b[0m \u001b[32m374.5/374.5 KB\u001b[0m \u001b[31m7.2 MB/s\u001b[0m eta \u001b[36m0:00:00\u001b[0m\n",
            "\u001b[?25h  Preparing metadata (setup.py) ... \u001b[?25l\u001b[?25hdone\n",
            "Building wheels for collected packages: box2d-py\n",
            "  \u001b[1;31merror\u001b[0m: \u001b[1msubprocess-exited-with-error\u001b[0m\n",
            "  \n",
            "  \u001b[31m×\u001b[0m \u001b[32mpython setup.py bdist_wheel\u001b[0m did not run successfully.\n",
            "  \u001b[31m│\u001b[0m exit code: \u001b[1;36m1\u001b[0m\n",
            "  \u001b[31m╰─>\u001b[0m See above for output.\n",
            "  \n",
            "  \u001b[1;35mnote\u001b[0m: This error originates from a subprocess, and is likely not a problem with pip.\n",
            "  Building wheel for box2d-py (setup.py) ... \u001b[?25lerror\n",
            "\u001b[31m  ERROR: Failed building wheel for box2d-py\u001b[0m\u001b[31m\n",
            "\u001b[0m\u001b[?25h  Running setup.py clean for box2d-py\n",
            "Failed to build box2d-py\n",
            "Installing collected packages: box2d-py\n",
            "  \u001b[1;31merror\u001b[0m: \u001b[1msubprocess-exited-with-error\u001b[0m\n",
            "  \n",
            "  \u001b[31m×\u001b[0m \u001b[32mRunning setup.py install for box2d-py\u001b[0m did not run successfully.\n",
            "  \u001b[31m│\u001b[0m exit code: \u001b[1;36m1\u001b[0m\n",
            "  \u001b[31m╰─>\u001b[0m See above for output.\n",
            "  \n",
            "  \u001b[1;35mnote\u001b[0m: This error originates from a subprocess, and is likely not a problem with pip.\n",
            "  Running setup.py install for box2d-py ... \u001b[?25l\u001b[?25herror\n",
            "\u001b[1;31merror\u001b[0m: \u001b[1mlegacy-install-failure\u001b[0m\n",
            "\n",
            "\u001b[31m×\u001b[0m Encountered error while trying to install package.\n",
            "\u001b[31m╰─>\u001b[0m box2d-py\n",
            "\n",
            "\u001b[1;35mnote\u001b[0m: This is an issue with the package mentioned above, not pip.\n",
            "\u001b[1;36mhint\u001b[0m: See above for output from the failure.\n",
            "Looking in indexes: https://pypi.org/simple, https://us-python.pkg.dev/colab-wheels/public/simple/\n",
            "Requirement already satisfied: gym[all] in /usr/local/lib/python3.8/dist-packages (0.25.2)\n",
            "Requirement already satisfied: gym-notices>=0.0.4 in /usr/local/lib/python3.8/dist-packages (from gym[all]) (0.0.8)\n",
            "Requirement already satisfied: cloudpickle>=1.2.0 in /usr/local/lib/python3.8/dist-packages (from gym[all]) (2.2.0)\n",
            "Requirement already satisfied: importlib-metadata>=4.8.0 in /usr/local/lib/python3.8/dist-packages (from gym[all]) (6.0.0)\n",
            "Requirement already satisfied: numpy>=1.18.0 in /usr/local/lib/python3.8/dist-packages (from gym[all]) (1.21.6)\n",
            "Collecting lz4>=3.1.0\n",
            "  Downloading lz4-4.3.2-cp38-cp38-manylinux_2_17_x86_64.manylinux2014_x86_64.whl (1.3 MB)\n",
            "\u001b[2K     \u001b[90m━━━━━━━━━━━━━━━━━━━━━━━━━━━━━━━━━━━━━━━━\u001b[0m \u001b[32m1.3/1.3 MB\u001b[0m \u001b[31m19.0 MB/s\u001b[0m eta \u001b[36m0:00:00\u001b[0m\n",
            "\u001b[?25hCollecting pytest==7.0.1\n",
            "  Downloading pytest-7.0.1-py3-none-any.whl (296 kB)\n",
            "\u001b[2K     \u001b[90m━━━━━━━━━━━━━━━━━━━━━━━━━━━━━━━━━━━━━━\u001b[0m \u001b[32m297.0/297.0 KB\u001b[0m \u001b[31m35.9 MB/s\u001b[0m eta \u001b[36m0:00:00\u001b[0m\n",
            "\u001b[?25hCollecting box2d-py==2.3.5\n",
            "  Downloading box2d-py-2.3.5.tar.gz (374 kB)\n",
            "\u001b[2K     \u001b[90m━━━━━━━━━━━━━━━━━━━━━━━━━━━━━━━━━━━━━━\u001b[0m \u001b[32m374.4/374.4 KB\u001b[0m \u001b[31m39.0 MB/s\u001b[0m eta \u001b[36m0:00:00\u001b[0m\n",
            "\u001b[?25h  Preparing metadata (setup.py) ... \u001b[?25l\u001b[?25hdone\n",
            "Collecting pygame==2.1.0\n",
            "  Downloading pygame-2.1.0-cp38-cp38-manylinux_2_17_x86_64.manylinux2014_x86_64.whl (18.3 MB)\n",
            "\u001b[2K     \u001b[90m━━━━━━━━━━━━━━━━━━━━━━━━━━━━━━━━━━━━━━━━\u001b[0m \u001b[32m18.3/18.3 MB\u001b[0m \u001b[31m77.6 MB/s\u001b[0m eta \u001b[36m0:00:00\u001b[0m\n",
            "\u001b[?25hCollecting mujoco==2.2.0\n",
            "  Downloading mujoco-2.2.0-cp38-cp38-manylinux_2_17_x86_64.manylinux2014_x86_64.whl (3.6 MB)\n",
            "\u001b[2K     \u001b[90m━━━━━━━━━━━━━━━━━━━━━━━━━━━━━━━━━━━━━━━━\u001b[0m \u001b[32m3.6/3.6 MB\u001b[0m \u001b[31m93.9 MB/s\u001b[0m eta \u001b[36m0:00:00\u001b[0m\n",
            "\u001b[?25hCollecting ale-py~=0.7.5\n",
            "  Downloading ale_py-0.7.5-cp38-cp38-manylinux_2_17_x86_64.manylinux2014_x86_64.whl (1.6 MB)\n",
            "\u001b[2K     \u001b[90m━━━━━━━━━━━━━━━━━━━━━━━━━━━━━━━━━━━━━━━━\u001b[0m \u001b[32m1.6/1.6 MB\u001b[0m \u001b[31m79.7 MB/s\u001b[0m eta \u001b[36m0:00:00\u001b[0m\n",
            "\u001b[?25hCollecting imageio>=2.14.1\n",
            "  Downloading imageio-2.25.0-py3-none-any.whl (3.4 MB)\n",
            "\u001b[2K     \u001b[90m━━━━━━━━━━━━━━━━━━━━━━━━━━━━━━━━━━━━━━━━\u001b[0m \u001b[32m3.4/3.4 MB\u001b[0m \u001b[31m85.4 MB/s\u001b[0m eta \u001b[36m0:00:00\u001b[0m\n",
            "\u001b[?25hCollecting swig==4.*\n",
            "  Downloading swig-4.1.1-py2.py3-none-manylinux_2_5_x86_64.manylinux1_x86_64.whl (1.8 MB)\n",
            "\u001b[2K     \u001b[90m━━━━━━━━━━━━━━━━━━━━━━━━━━━━━━━━━━━━━━━━\u001b[0m \u001b[32m1.8/1.8 MB\u001b[0m \u001b[31m80.2 MB/s\u001b[0m eta \u001b[36m0:00:00\u001b[0m\n",
            "\u001b[?25hRequirement already satisfied: opencv-python>=3.0 in /usr/local/lib/python3.8/dist-packages (from gym[all]) (4.6.0.66)\n",
            "Collecting mujoco-py<2.2,>=2.1\n",
            "  Downloading mujoco_py-2.1.2.14-py3-none-any.whl (2.4 MB)\n",
            "\u001b[2K     \u001b[90m━━━━━━━━━━━━━━━━━━━━━━━━━━━━━━━━━━━━━━━━\u001b[0m \u001b[32m2.4/2.4 MB\u001b[0m \u001b[31m94.1 MB/s\u001b[0m eta \u001b[36m0:00:00\u001b[0m\n",
            "\u001b[?25hRequirement already satisfied: matplotlib>=3.0 in /usr/local/lib/python3.8/dist-packages (from gym[all]) (3.2.2)\n",
            "Requirement already satisfied: absl-py in /usr/local/lib/python3.8/dist-packages (from mujoco==2.2.0->gym[all]) (1.3.0)\n",
            "Collecting glfw\n",
            "  Downloading glfw-2.5.5-py2.py27.py3.py30.py31.py32.py33.py34.py35.py36.py37.py38-none-manylinux2014_x86_64.whl (207 kB)\n",
            "\u001b[2K     \u001b[90m━━━━━━━━━━━━━━━━━━━━━━━━━━━━━━━━━━━━━━\u001b[0m \u001b[32m207.5/207.5 KB\u001b[0m \u001b[31m25.3 MB/s\u001b[0m eta \u001b[36m0:00:00\u001b[0m\n",
            "\u001b[?25hRequirement already satisfied: pyopengl in /usr/local/lib/python3.8/dist-packages (from mujoco==2.2.0->gym[all]) (3.1.6)\n",
            "Requirement already satisfied: py>=1.8.2 in /usr/local/lib/python3.8/dist-packages (from pytest==7.0.1->gym[all]) (1.11.0)\n",
            "Collecting iniconfig\n",
            "  Downloading iniconfig-2.0.0-py3-none-any.whl (5.9 kB)\n",
            "Requirement already satisfied: packaging in /usr/local/lib/python3.8/dist-packages (from pytest==7.0.1->gym[all]) (21.3)\n",
            "Requirement already satisfied: tomli>=1.0.0 in /usr/local/lib/python3.8/dist-packages (from pytest==7.0.1->gym[all]) (2.0.1)\n",
            "Collecting pluggy<2.0,>=0.12\n",
            "  Downloading pluggy-1.0.0-py2.py3-none-any.whl (13 kB)\n",
            "Requirement already satisfied: attrs>=19.2.0 in /usr/local/lib/python3.8/dist-packages (from pytest==7.0.1->gym[all]) (22.2.0)\n",
            "Requirement already satisfied: importlib-resources in /usr/local/lib/python3.8/dist-packages (from ale-py~=0.7.5->gym[all]) (5.10.2)\n",
            "Collecting pillow>=8.3.2\n",
            "  Downloading Pillow-9.4.0-cp38-cp38-manylinux_2_28_x86_64.whl (3.4 MB)\n",
            "\u001b[2K     \u001b[90m━━━━━━━━━━━━━━━━━━━━━━━━━━━━━━━━━━━━━━━━\u001b[0m \u001b[32m3.4/3.4 MB\u001b[0m \u001b[31m103.1 MB/s\u001b[0m eta \u001b[36m0:00:00\u001b[0m\n",
            "\u001b[?25hRequirement already satisfied: zipp>=0.5 in /usr/local/lib/python3.8/dist-packages (from importlib-metadata>=4.8.0->gym[all]) (3.11.0)\n",
            "Requirement already satisfied: python-dateutil>=2.1 in /usr/local/lib/python3.8/dist-packages (from matplotlib>=3.0->gym[all]) (2.8.2)\n",
            "Requirement already satisfied: kiwisolver>=1.0.1 in /usr/local/lib/python3.8/dist-packages (from matplotlib>=3.0->gym[all]) (1.4.4)\n",
            "Requirement already satisfied: cycler>=0.10 in /usr/local/lib/python3.8/dist-packages (from matplotlib>=3.0->gym[all]) (0.11.0)\n",
            "Requirement already satisfied: pyparsing!=2.0.4,!=2.1.2,!=2.1.6,>=2.0.1 in /usr/local/lib/python3.8/dist-packages (from matplotlib>=3.0->gym[all]) (3.0.9)\n",
            "Requirement already satisfied: Cython>=0.27.2 in /usr/local/lib/python3.8/dist-packages (from mujoco-py<2.2,>=2.1->gym[all]) (0.29.33)\n",
            "Collecting fasteners~=0.15\n",
            "  Downloading fasteners-0.18-py3-none-any.whl (18 kB)\n",
            "Requirement already satisfied: cffi>=1.10 in /usr/local/lib/python3.8/dist-packages (from mujoco-py<2.2,>=2.1->gym[all]) (1.15.1)\n",
            "Requirement already satisfied: pycparser in /usr/local/lib/python3.8/dist-packages (from cffi>=1.10->mujoco-py<2.2,>=2.1->gym[all]) (2.21)\n",
            "Requirement already satisfied: six>=1.5 in /usr/local/lib/python3.8/dist-packages (from python-dateutil>=2.1->matplotlib>=3.0->gym[all]) (1.15.0)\n",
            "Building wheels for collected packages: box2d-py\n",
            "  \u001b[1;31merror\u001b[0m: \u001b[1msubprocess-exited-with-error\u001b[0m\n",
            "  \n",
            "  \u001b[31m×\u001b[0m \u001b[32mpython setup.py bdist_wheel\u001b[0m did not run successfully.\n",
            "  \u001b[31m│\u001b[0m exit code: \u001b[1;36m1\u001b[0m\n",
            "  \u001b[31m╰─>\u001b[0m See above for output.\n",
            "  \n",
            "  \u001b[1;35mnote\u001b[0m: This error originates from a subprocess, and is likely not a problem with pip.\n",
            "  Building wheel for box2d-py (setup.py) ... \u001b[?25lerror\n",
            "\u001b[31m  ERROR: Failed building wheel for box2d-py\u001b[0m\u001b[31m\n",
            "\u001b[0m\u001b[?25h  Running setup.py clean for box2d-py\n",
            "Failed to build box2d-py\n",
            "Installing collected packages: swig, glfw, box2d-py, pygame, pluggy, pillow, mujoco, lz4, iniconfig, fasteners, pytest, imageio, ale-py, mujoco-py\n",
            "  Running setup.py install for box2d-py ... \u001b[?25l\u001b[?25hdone\n",
            "\u001b[33m  DEPRECATION: box2d-py was installed using the legacy 'setup.py install' method, because a wheel could not be built for it. A possible replacement is to fix the wheel build issue reported above. Discussion can be found at https://github.com/pypa/pip/issues/8368\u001b[0m\u001b[33m\n",
            "\u001b[0m  Attempting uninstall: pluggy\n",
            "    Found existing installation: pluggy 0.7.1\n",
            "    Uninstalling pluggy-0.7.1:\n",
            "      Successfully uninstalled pluggy-0.7.1\n",
            "  Attempting uninstall: pillow\n",
            "    Found existing installation: Pillow 7.1.2\n",
            "    Uninstalling Pillow-7.1.2:\n",
            "      Successfully uninstalled Pillow-7.1.2\n",
            "  Attempting uninstall: pytest\n",
            "    Found existing installation: pytest 3.6.4\n",
            "    Uninstalling pytest-3.6.4:\n",
            "      Successfully uninstalled pytest-3.6.4\n",
            "  Attempting uninstall: imageio\n",
            "    Found existing installation: imageio 2.9.0\n",
            "    Uninstalling imageio-2.9.0:\n",
            "      Successfully uninstalled imageio-2.9.0\n",
            "Successfully installed ale-py-0.7.5 box2d-py-2.3.5 fasteners-0.18 glfw-2.5.5 imageio-2.25.0 iniconfig-2.0.0 lz4-4.3.2 mujoco-2.2.0 mujoco-py-2.1.2.14 pillow-9.4.0 pluggy-1.0.0 pygame-2.1.0 pytest-7.0.1 swig-4.1.1\n"
          ]
        },
        {
          "data": {
            "application/vnd.colab-display-data+json": {
              "pip_warning": {
                "packages": [
                  "PIL"
                ]
              }
            }
          },
          "metadata": {},
          "output_type": "display_data"
        },
        {
          "name": "stdout",
          "output_type": "stream",
          "text": [
            "\u001b[31mERROR: Invalid requirement: 'gym[Box_2D]2'\u001b[0m\u001b[31m\n",
            "\u001b[0mLooking in indexes: https://pypi.org/simple, https://us-python.pkg.dev/colab-wheels/public/simple/\n",
            "Requirement already satisfied: gym in /usr/local/lib/python3.8/dist-packages (0.25.2)\n",
            "Requirement already satisfied: importlib-metadata>=4.8.0 in /usr/local/lib/python3.8/dist-packages (from gym) (6.0.0)\n",
            "Requirement already satisfied: numpy>=1.18.0 in /usr/local/lib/python3.8/dist-packages (from gym) (1.21.6)\n",
            "Requirement already satisfied: cloudpickle>=1.2.0 in /usr/local/lib/python3.8/dist-packages (from gym) (2.2.0)\n",
            "Requirement already satisfied: gym-notices>=0.0.4 in /usr/local/lib/python3.8/dist-packages (from gym) (0.0.8)\n",
            "Requirement already satisfied: zipp>=0.5 in /usr/local/lib/python3.8/dist-packages (from importlib-metadata>=4.8.0->gym) (3.11.0)\n",
            "Looking in indexes: https://pypi.org/simple, https://us-python.pkg.dev/colab-wheels/public/simple/\n",
            "Collecting wandb\n",
            "  Downloading wandb-0.13.9-py2.py3-none-any.whl (2.0 MB)\n",
            "\u001b[2K     \u001b[90m━━━━━━━━━━━━━━━━━━━━━━━━━━━━━━━━━━━━━━━━\u001b[0m \u001b[32m2.0/2.0 MB\u001b[0m \u001b[31m27.0 MB/s\u001b[0m eta \u001b[36m0:00:00\u001b[0m\n",
            "\u001b[?25hRequirement already satisfied: tqdm in /usr/local/lib/python3.8/dist-packages (4.64.1)\n",
            "Collecting tensorflow_addons\n",
            "  Downloading tensorflow_addons-0.19.0-cp38-cp38-manylinux_2_17_x86_64.manylinux2014_x86_64.whl (1.1 MB)\n",
            "\u001b[2K     \u001b[90m━━━━━━━━━━━━━━━━━━━━━━━━━━━━━━━━━━━━━━━━\u001b[0m \u001b[32m1.1/1.1 MB\u001b[0m \u001b[31m61.8 MB/s\u001b[0m eta \u001b[36m0:00:00\u001b[0m\n",
            "\u001b[?25hCollecting setproctitle\n",
            "  Downloading setproctitle-1.3.2-cp38-cp38-manylinux_2_5_x86_64.manylinux1_x86_64.manylinux_2_17_x86_64.manylinux2014_x86_64.whl (31 kB)\n",
            "Collecting pathtools\n",
            "  Downloading pathtools-0.1.2.tar.gz (11 kB)\n",
            "  Preparing metadata (setup.py) ... \u001b[?25l\u001b[?25hdone\n",
            "Requirement already satisfied: Click!=8.0.0,>=7.0 in /usr/local/lib/python3.8/dist-packages (from wandb) (7.1.2)\n",
            "Collecting sentry-sdk>=1.0.0\n",
            "  Downloading sentry_sdk-1.14.0-py2.py3-none-any.whl (178 kB)\n",
            "\u001b[2K     \u001b[90m━━━━━━━━━━━━━━━━━━━━━━━━━━━━━━━━━━━━━━\u001b[0m \u001b[32m178.9/178.9 KB\u001b[0m \u001b[31m21.6 MB/s\u001b[0m eta \u001b[36m0:00:00\u001b[0m\n",
            "\u001b[?25hCollecting docker-pycreds>=0.4.0\n",
            "  Downloading docker_pycreds-0.4.0-py2.py3-none-any.whl (9.0 kB)\n",
            "Requirement already satisfied: PyYAML in /usr/local/lib/python3.8/dist-packages (from wandb) (6.0)\n",
            "Requirement already satisfied: appdirs>=1.4.3 in /usr/local/lib/python3.8/dist-packages (from wandb) (1.4.4)\n",
            "Requirement already satisfied: requests<3,>=2.0.0 in /usr/local/lib/python3.8/dist-packages (from wandb) (2.25.1)\n",
            "Requirement already satisfied: typing-extensions in /usr/local/lib/python3.8/dist-packages (from wandb) (4.4.0)\n",
            "Requirement already satisfied: setuptools in /usr/local/lib/python3.8/dist-packages (from wandb) (57.4.0)\n",
            "Requirement already satisfied: psutil>=5.0.0 in /usr/local/lib/python3.8/dist-packages (from wandb) (5.4.8)\n",
            "Requirement already satisfied: protobuf!=4.21.0,<5,>=3.12.0 in /usr/local/lib/python3.8/dist-packages (from wandb) (3.19.6)\n",
            "Collecting GitPython>=1.0.0\n",
            "  Downloading GitPython-3.1.30-py3-none-any.whl (184 kB)\n",
            "\u001b[2K     \u001b[90m━━━━━━━━━━━━━━━━━━━━━━━━━━━━━━━━━━━━━━\u001b[0m \u001b[32m184.0/184.0 KB\u001b[0m \u001b[31m20.7 MB/s\u001b[0m eta \u001b[36m0:00:00\u001b[0m\n",
            "\u001b[?25hRequirement already satisfied: typeguard>=2.7 in /usr/local/lib/python3.8/dist-packages (from tensorflow_addons) (2.7.1)\n",
            "Requirement already satisfied: packaging in /usr/local/lib/python3.8/dist-packages (from tensorflow_addons) (21.3)\n",
            "Requirement already satisfied: six>=1.4.0 in /usr/local/lib/python3.8/dist-packages (from docker-pycreds>=0.4.0->wandb) (1.15.0)\n",
            "Collecting gitdb<5,>=4.0.1\n",
            "  Downloading gitdb-4.0.10-py3-none-any.whl (62 kB)\n",
            "\u001b[2K     \u001b[90m━━━━━━━━━━━━━━━━━━━━━━━━━━━━━━━━━━━━━━━━\u001b[0m \u001b[32m62.7/62.7 KB\u001b[0m \u001b[31m7.7 MB/s\u001b[0m eta \u001b[36m0:00:00\u001b[0m\n",
            "\u001b[?25hRequirement already satisfied: chardet<5,>=3.0.2 in /usr/local/lib/python3.8/dist-packages (from requests<3,>=2.0.0->wandb) (4.0.0)\n",
            "Requirement already satisfied: idna<3,>=2.5 in /usr/local/lib/python3.8/dist-packages (from requests<3,>=2.0.0->wandb) (2.10)\n",
            "Requirement already satisfied: certifi>=2017.4.17 in /usr/local/lib/python3.8/dist-packages (from requests<3,>=2.0.0->wandb) (2022.12.7)\n",
            "Requirement already satisfied: urllib3<1.27,>=1.21.1 in /usr/local/lib/python3.8/dist-packages (from requests<3,>=2.0.0->wandb) (1.24.3)\n",
            "Collecting urllib3<1.27,>=1.21.1\n",
            "  Downloading urllib3-1.26.14-py2.py3-none-any.whl (140 kB)\n",
            "\u001b[2K     \u001b[90m━━━━━━━━━━━━━━━━━━━━━━━━━━━━━━━━━━━━━━\u001b[0m \u001b[32m140.6/140.6 KB\u001b[0m \u001b[31m17.8 MB/s\u001b[0m eta \u001b[36m0:00:00\u001b[0m\n",
            "\u001b[?25hRequirement already satisfied: pyparsing!=3.0.5,>=2.0.2 in /usr/local/lib/python3.8/dist-packages (from packaging->tensorflow_addons) (3.0.9)\n",
            "Collecting smmap<6,>=3.0.1\n",
            "  Downloading smmap-5.0.0-py3-none-any.whl (24 kB)\n",
            "Building wheels for collected packages: pathtools\n",
            "  Building wheel for pathtools (setup.py) ... \u001b[?25l\u001b[?25hdone\n",
            "  Created wheel for pathtools: filename=pathtools-0.1.2-py3-none-any.whl size=8806 sha256=fa69576ce62d990fdd83616727adde3f42c2ee9fea445f4f7935c6c62c08b28a\n",
            "  Stored in directory: /root/.cache/pip/wheels/4c/8e/7e/72fbc243e1aeecae64a96875432e70d4e92f3d2d18123be004\n",
            "Successfully built pathtools\n",
            "Installing collected packages: pathtools, urllib3, smmap, setproctitle, docker-pycreds, tensorflow_addons, sentry-sdk, gitdb, GitPython, wandb\n",
            "  Attempting uninstall: urllib3\n",
            "    Found existing installation: urllib3 1.24.3\n",
            "    Uninstalling urllib3-1.24.3:\n",
            "      Successfully uninstalled urllib3-1.24.3\n",
            "Successfully installed GitPython-3.1.30 docker-pycreds-0.4.0 gitdb-4.0.10 pathtools-0.1.2 sentry-sdk-1.14.0 setproctitle-1.3.2 smmap-5.0.0 tensorflow_addons-0.19.0 urllib3-1.26.14 wandb-0.13.9\n"
          ]
        }
      ],
      "source": [
        "!pip install Box2D\n",
        "!pip install box2d\n",
        "!pip install box2d-py\n",
        "!pip install gym[all]\n",
        "!pip install gym[Box_2D]2\n",
        "!pip install gym\n",
        "!pip install wandb tqdm tensorflow_addons"
      ]
    },
    {
      "cell_type": "markdown",
      "metadata": {
        "id": "QzJV5FT14yI1"
      },
      "source": [
        "> ### Installing necessary dependencies for OpenAI Gym\n",
        "\n",
        "- `wandb`: Explained later\n",
        "- `tqdm`: Progress bar"
      ]
    },
    {
      "cell_type": "markdown",
      "metadata": {
        "id": "HMDbmJuY5eyK"
      },
      "source": [
        "### Install X11 system and other dependencies\n",
        "\n",
        "- Install X11 to render display and other dependencies to make sure we can run OpenAI environments in Google Colab."
      ]
    },
    {
      "cell_type": "code",
      "execution_count": null,
      "metadata": {
        "colab": {
          "base_uri": "https://localhost:8080/"
        },
        "id": "k7htzm9F4viS",
        "outputId": "1be339e3-ca93-4ac5-e4cb-9ef5e1ec7ee2"
      },
      "outputs": [
        {
          "name": "stdout",
          "output_type": "stream",
          "text": [
            "Reading package lists... Done\n",
            "Building dependency tree       \n",
            "Reading state information... Done\n",
            "The following additional packages will be installed:\n",
            "  libxxf86dga1\n",
            "Suggested packages:\n",
            "  mesa-utils\n",
            "The following NEW packages will be installed:\n",
            "  libxxf86dga1 x11-utils xvfb\n",
            "0 upgraded, 3 newly installed, 0 to remove and 27 not upgraded.\n",
            "Need to get 990 kB of archives.\n",
            "After this operation, 3,058 kB of additional disk space will be used.\n",
            "Get:1 http://archive.ubuntu.com/ubuntu focal/main amd64 libxxf86dga1 amd64 2:1.1.5-0ubuntu1 [12.0 kB]\n",
            "Get:2 http://archive.ubuntu.com/ubuntu focal/main amd64 x11-utils amd64 7.7+5 [199 kB]\n",
            "Get:3 http://archive.ubuntu.com/ubuntu focal-updates/universe amd64 xvfb amd64 2:1.20.13-1ubuntu1~20.04.5 [780 kB]\n",
            "Fetched 990 kB in 1s (1,029 kB/s)\n",
            "Selecting previously unselected package libxxf86dga1:amd64.\n",
            "(Reading database ... 129499 files and directories currently installed.)\n",
            "Preparing to unpack .../libxxf86dga1_2%3a1.1.5-0ubuntu1_amd64.deb ...\n",
            "Unpacking libxxf86dga1:amd64 (2:1.1.5-0ubuntu1) ...\n",
            "Selecting previously unselected package x11-utils.\n",
            "Preparing to unpack .../x11-utils_7.7+5_amd64.deb ...\n",
            "Unpacking x11-utils (7.7+5) ...\n",
            "Selecting previously unselected package xvfb.\n",
            "Preparing to unpack .../xvfb_2%3a1.20.13-1ubuntu1~20.04.5_amd64.deb ...\n",
            "Unpacking xvfb (2:1.20.13-1ubuntu1~20.04.5) ...\n",
            "Setting up xvfb (2:1.20.13-1ubuntu1~20.04.5) ...\n",
            "Setting up libxxf86dga1:amd64 (2:1.1.5-0ubuntu1) ...\n",
            "Setting up x11-utils (7.7+5) ...\n",
            "Processing triggers for man-db (2.9.1-1) ...\n",
            "Processing triggers for libc-bin (2.31-0ubuntu9.9) ...\n",
            "Looking in indexes: https://pypi.org/simple, https://us-python.pkg.dev/colab-wheels/public/simple/\n",
            "Collecting pyvirtualdisplay==0.2.*\n",
            "  Downloading PyVirtualDisplay-0.2.5-py2.py3-none-any.whl (13 kB)\n",
            "Requirement already satisfied: PyOpenGL==3.1.* in /usr/local/lib/python3.8/dist-packages (3.1.6)\n",
            "Collecting PyOpenGL-accelerate==3.1.*\n",
            "  Downloading PyOpenGL-accelerate-3.1.6.tar.gz (550 kB)\n",
            "\u001b[2K     \u001b[90m━━━━━━━━━━━━━━━━━━━━━━━━━━━━━━━━━━━━━━\u001b[0m \u001b[32m550.6/550.6 KB\u001b[0m \u001b[31m10.9 MB/s\u001b[0m eta \u001b[36m0:00:00\u001b[0m\n",
            "\u001b[?25h  Preparing metadata (setup.py) ... \u001b[?25l\u001b[?25hdone\n",
            "Collecting EasyProcess\n",
            "  Downloading EasyProcess-1.1-py3-none-any.whl (8.7 kB)\n",
            "Building wheels for collected packages: PyOpenGL-accelerate\n"
          ]
        }
      ],
      "source": [
        "!apt-get install -y xvfb x11-utils\n",
        "!pip install pyvirtualdisplay==0.2.* PyOpenGL==3.1.* PyOpenGL-accelerate==3.1.*"
      ]
    },
    {
      "cell_type": "markdown",
      "metadata": {
        "id": "4woZ3SOLIBjJ"
      },
      "source": [
        "### Create virtual display in background\n",
        "\n",
        "- Create a new virtual display in the background that the environment can connect for rendering.\n",
        "- `echo` to ensure there is any running background display"
      ]
    },
    {
      "cell_type": "code",
      "execution_count": null,
      "metadata": {
        "id": "Pf4A_snJHj4_"
      },
      "outputs": [],
      "source": [
        "import pyvirtualdisplay\n",
        "_display = pyvirtualdisplay.Display(visible=False,\n",
        "                                    size=(1024, 768) )\n",
        "_display.start()\n",
        "!echo $DISPLAY"
      ]
    },
    {
      "cell_type": "code",
      "execution_count": null,
      "metadata": {
        "id": "zDGoeUde10QT"
      },
      "outputs": [],
      "source": [
        "# from google.colab import drive\n",
        "# drive.mount('/content/drive', force_remount=True)\n",
        "# %cd /content/drive/MyDrive"
      ]
    },
    {
      "cell_type": "markdown",
      "metadata": {
        "id": "tNUFmIGKP2e3"
      },
      "source": [
        "## Imports"
      ]
    },
    {
      "cell_type": "code",
      "execution_count": null,
      "metadata": {
        "id": "Be0fqKNeyCki"
      },
      "outputs": [],
      "source": [
        "from collections import *\n",
        "import numpy as np\n",
        "import pandas as pd\n",
        "import plotly.graph_objects as go\n",
        "from plotly.subplots import make_subplots\n",
        "from matplotlib import pyplot as plt\n",
        "from tqdm import tqdm\n",
        "import seaborn as sns\n",
        "import plotly.express as px\n",
        "from copy import deepcopy\n",
        "import os, time, math, datetime, warnings,glob,random,wandb,sys,functools, plotly\n",
        "from IPython.display import display, HTML\n",
        "from matplotlib import animation, rc\n",
        "\n",
        "\n",
        "os.environ['TF_CPP_MIN_LOG_LEVEL'] = '2'  # Ignore warnings\n",
        "%matplotlib inline"
      ]
    },
    {
      "cell_type": "code",
      "execution_count": null,
      "metadata": {
        "id": "JtTZe7mOk0fj"
      },
      "outputs": [],
      "source": [
        "plotly.offline.init_notebook_mode()"
      ]
    },
    {
      "cell_type": "code",
      "execution_count": null,
      "metadata": {
        "id": "pc70NSCGzFPg"
      },
      "outputs": [],
      "source": [
        "import absl.logging\n",
        "absl.logging.set_verbosity(absl.logging.ERROR)\n",
        "# ignore warning\n",
        "import logging\n",
        "logging.getLogger('tensorflow').disabled = True\n",
        "\n",
        "# Ignore GPU when i'm not using colab because my GPU is not very good\n",
        "if 'google.colab'  not in sys.modules:\n",
        "    os.environ['CUDA_VISIBLE_DEVICES'] = '-1'\n"
      ]
    },
    {
      "cell_type": "code",
      "execution_count": null,
      "metadata": {
        "id": "_cQSqJ-40UKg"
      },
      "outputs": [],
      "source": [
        "import tensorflow as tf\n",
        "from tensorflow.keras.layers import Dense, Input, Flatten, LeakyReLU, ReLU, Conv2D\n",
        "from tensorflow.keras.models import load_model, Model, model_from_json\n",
        "\n",
        "from tensorflow.keras.optimizers import Adam\n",
        "from tensorflow_addons.layers import NoisyDense\n",
        "from tensorflow.keras import backend as K\n"
      ]
    },
    {
      "cell_type": "markdown",
      "metadata": {
        "id": "36W-7LxDP2e6"
      },
      "source": [
        "# OpenAI Gym \n",
        "\n",
        "It is a toolkit for building, evaluating and comparing RL algorithms. It is compatible with algorithms written in any frameworks like TensoFlow. It is simple and easy to comprehend. It makes no assumption about the structure of our agent and provides an interface to all RL tasks."
      ]
    },
    {
      "cell_type": "code",
      "execution_count": null,
      "metadata": {
        "id": "7lqIGZ2ey7eD"
      },
      "outputs": [],
      "source": [
        "import gym\n",
        "from gym import RewardWrapper, ObservationWrapper,Wrapper, logger\n",
        "warnings.filterwarnings('ignore')"
      ]
    },
    {
      "cell_type": "code",
      "execution_count": null,
      "metadata": {
        "id": "Y3Ai6_gaTOAu"
      },
      "outputs": [],
      "source": [
        "# random seed for reproducibility\n",
        "seed = 42\n",
        "tf.random.set_seed(seed)\n",
        "np.random.seed(seed)\n",
        "random.seed(seed)"
      ]
    },
    {
      "cell_type": "markdown",
      "metadata": {
        "id": "TC5POeM_P2e_"
      },
      "source": [
        "## Create environment\n"
      ]
    },
    {
      "cell_type": "code",
      "execution_count": null,
      "metadata": {
        "colab": {
          "background_save": true
        },
        "id": "7pRClfeu9CjW"
      },
      "outputs": [],
      "source": [
        "env = gym.make(\"LunarLander-v2\" )\n",
        "env.reset(seed=seed)\n",
        "NUM_ACTIONS = 4"
      ]
    },
    {
      "cell_type": "markdown",
      "metadata": {
        "id": "xO2I4t7wP2fA"
      },
      "source": [
        "## Helper functions for plotting"
      ]
    },
    {
      "cell_type": "code",
      "execution_count": null,
      "metadata": {
        "colab": {
          "background_save": true
        },
        "id": "4BwbVihLP2fB"
      },
      "outputs": [],
      "source": [
        "def reward_plot(df):\n",
        "    fig = px.line(df, x='x', y=['Average Score', 'Solved Requirement'], markers=True, title='Score Analysis')\n",
        "    fig.update_traces(patch={\"line\": {\"width\": 4, \"dash\": 'dash'}})\n",
        "    fig.add_traces(go.Scatter(x= df['x'], y=df['Score'], mode='markers+lines', name='Score')).update_traces(patch={\"line\": {\"width\": 4}})\n",
        "    fig.update_layout(legend_title=\"Legend\")\n",
        "    return fig"
      ]
    },
    {
      "attachments": {},
      "cell_type": "markdown",
      "metadata": {
        "id": "IvN0DnGPP2fC"
      },
      "source": [
        "## Hyperparameter tuning\n",
        "1. For tuning, we use wandb's sweep function. We use random search to search for the most optimal hyperparameters for our noisy net model, to see if we can further improve our average score.\n",
        "2. For tuning we also set the training to stop, if the algorithm has trained for more than 50 episode, and obtain an average rewards of below -200, the training will be halted. This will help us save time as we know those hyperparameters are not useful.\n",
        "\n",
        "\n",
        "Hyperparameters tuned: learning rate (min = 0.0001, max = 0.01); Update target network interval (5, 10, 20, 30, 50, 100, 130)\n",
        "I wanted to investigate if updating the target network at fewer or more frequent intervals would result in a better performance. Similarly, tuning the learning rate determines how big of a leap we take in finding optimal policy. In the terms of simple QLearning it's how much you are updating the Q value with each step.\n"
      ]
    },
    {
      "cell_type": "code",
      "execution_count": null,
      "metadata": {
        "colab": {
          "background_save": true
        },
        "id": "7B8FGYC3P2fM"
      },
      "outputs": [],
      "source": [
        "from utils import NoisyNet\n",
        "from utilsdqn import Agent as DQNAgent"
      ]
    },
    {
      "cell_type": "code",
      "execution_count": null,
      "metadata": {
        "colab": {
          "background_save": true
        },
        "id": "Qiv-eM5KP2fY"
      },
      "outputs": [],
      "source": [
        "sweep_config = {\n",
        "    \"method\": \"random\",\n",
        "    \"metric\" : {\n",
        "        \"name\" : \"Avg-Reward-100e\",\n",
        "        \"goal\" : \"maximize\",\n",
        "        \"target\" : 300\n",
        "        }\n",
        "    }\n",
        "parameters_tuning = {\n",
        "    \"lr\" : {\n",
        "        \"min\" : 0.0001,\n",
        "        \"max\" : 0.01,\n",
        "        \"distribution\" : \"uniform\"\n",
        "    },\n",
        "    \"gamma\" : {\n",
        "        \"value\" : 0.99\n",
        "    },\n",
        "    \"epsilon\" : {\n",
        "        \"value\" : 1.0\n",
        "    },\n",
        "    \"update_target_net_interval\" : {\n",
        "        \"values\" : [5, 10, 20, 30, 50, 100, 130]\n",
        "    },\n",
        "    \"episodes\" : {\n",
        "        \"value\" : 700\n",
        "    }\n",
        "}\n"
      ]
    },
    {
      "attachments": {},
      "cell_type": "markdown",
      "metadata": {},
      "source": [
        "# D3QN tuning"
      ]
    },
    {
      "cell_type": "code",
      "execution_count": null,
      "metadata": {
        "colab": {
          "background_save": true
        },
        "id": "5rGhRnwiP2fZ",
        "outputId": "274ef7a8-c016-470a-8710-05cf0496452a"
      },
      "outputs": [
        {
          "name": "stdout",
          "output_type": "stream",
          "text": [
            "Create sweep with ID: tvdet1ks\n",
            "Sweep URL: https://wandb.ai/lhurr/D3QN-TUNING/sweeps/tvdet1ks\n"
          ]
        }
      ],
      "source": [
        "sweep_config[\"parameters\"] = parameters_tuning\n",
        "project_name = \"D3QN-TUNING\"\n",
        "sweep_id = wandb.sweep(sweep_config, project=project_name, entity= 'lhurr')"
      ]
    },
    {
      "attachments": {},
      "cell_type": "markdown",
      "metadata": {},
      "source": [
        "## Tuning\n",
        "- Due to limited computational power and colab runtime, I am unable to complete the run, due to the long hours of runtime.\n",
        "- Scrolling through, we see that our tuning has managed to find average scores that are of above 220, however it does not outperform our current noisy net. \n",
        "- As such, we have to move to evaluation"
      ]
    },
    {
      "cell_type": "code",
      "execution_count": null,
      "metadata": {
        "colab": {
          "background_save": true
        },
        "id": "Td49DKWbP2fZ"
      },
      "outputs": [],
      "source": [
        "def train(config=None):\n",
        "    with wandb.init(config=config):\n",
        "        config = wandb.config\n",
        "        env = gym.make(\"LunarLander-v2\")\n",
        "        model = NoisyNet(config.lr, config.gamma, 4, config.epsilon, 64, [8], config.update_target_net_interval)\n",
        "        _ = model.train_model(env,config.episodes, graph=False)"
      ]
    },
    {
      "cell_type": "code",
      "execution_count": null,
      "metadata": {
        "colab": {
          "background_save": true
        },
        "id": "6CkoET4aQDpV",
        "outputId": "28d1e4fb-d035-4bf7-a008-53e475e57120"
      },
      "outputs": [
        {
          "name": "stderr",
          "output_type": "stream",
          "text": [
            "\u001b[34m\u001b[1mwandb\u001b[0m: Agent Starting Run: 89pyswg0 with config:\n",
            "\u001b[34m\u001b[1mwandb\u001b[0m: \tepisodes: 700\n",
            "\u001b[34m\u001b[1mwandb\u001b[0m: \tepsilon: 1\n",
            "\u001b[34m\u001b[1mwandb\u001b[0m: \tgamma: 0.99\n",
            "\u001b[34m\u001b[1mwandb\u001b[0m: \tlr: 0.0017500570707847662\n",
            "\u001b[34m\u001b[1mwandb\u001b[0m: \tupdate_target_net_interval: 5\n",
            "\u001b[34m\u001b[1mwandb\u001b[0m: Currently logged in as: \u001b[33mlhurr\u001b[0m. Use \u001b[1m`wandb login --relogin`\u001b[0m to force relogin\n"
          ]
        },
        {
          "data": {
            "text/html": [
              "Tracking run with wandb version 0.13.9"
            ],
            "text/plain": [
              "<IPython.core.display.HTML object>"
            ]
          },
          "metadata": {},
          "output_type": "display_data"
        },
        {
          "data": {
            "text/html": [
              "Run data is saved locally in <code>/content/wandb/run-20230128_201727-89pyswg0</code>"
            ],
            "text/plain": [
              "<IPython.core.display.HTML object>"
            ]
          },
          "metadata": {},
          "output_type": "display_data"
        },
        {
          "data": {
            "text/html": [
              "Syncing run <strong><a href=\"https://wandb.ai/lhurr/D3QN-TUNING/runs/89pyswg0\" target=\"_blank\">valiant-sweep-1</a></strong> to <a href=\"https://wandb.ai/lhurr/D3QN-TUNING\" target=\"_blank\">Weights & Biases</a> (<a href=\"https://wandb.me/run\" target=\"_blank\">docs</a>)<br/>Sweep page: <a href=\"https://wandb.ai/lhurr/D3QN-TUNING/sweeps/tvdet1ks\" target=\"_blank\">https://wandb.ai/lhurr/D3QN-TUNING/sweeps/tvdet1ks</a>"
            ],
            "text/plain": [
              "<IPython.core.display.HTML object>"
            ]
          },
          "metadata": {},
          "output_type": "display_data"
        },
        {
          "data": {
            "text/html": [
              " View project at <a href=\"https://wandb.ai/lhurr/D3QN-TUNING\" target=\"_blank\">https://wandb.ai/lhurr/D3QN-TUNING</a>"
            ],
            "text/plain": [
              "<IPython.core.display.HTML object>"
            ]
          },
          "metadata": {},
          "output_type": "display_data"
        },
        {
          "data": {
            "text/html": [
              " View sweep at <a href=\"https://wandb.ai/lhurr/D3QN-TUNING/sweeps/tvdet1ks\" target=\"_blank\">https://wandb.ai/lhurr/D3QN-TUNING/sweeps/tvdet1ks</a>"
            ],
            "text/plain": [
              "<IPython.core.display.HTML object>"
            ]
          },
          "metadata": {},
          "output_type": "display_data"
        },
        {
          "data": {
            "text/html": [
              " View run at <a href=\"https://wandb.ai/lhurr/D3QN-TUNING/runs/89pyswg0\" target=\"_blank\">https://wandb.ai/lhurr/D3QN-TUNING/runs/89pyswg0</a>"
            ],
            "text/plain": [
              "<IPython.core.display.HTML object>"
            ]
          },
          "metadata": {},
          "output_type": "display_data"
        },
        {
          "name": "stdout",
          "output_type": "stream",
          "text": [
            "Episode 0/700, Score: -311.2242576409687 (1), AVG Score: -311.2242576409687\n",
            "Episode 1/700, Score: -490.10918183345285 (1), AVG Score: -400.66671973721077\n",
            "Episode 2/700, Score: -273.59185386561336 (1), AVG Score: -358.30843111334497\n",
            "Episode 3/700, Score: 21.53222013341562 (1), AVG Score: -263.3482683016548\n",
            "Episode 4/700, Score: -151.90340908764279 (1), AVG Score: -241.0592964588524\n",
            "Episode 5/700, Score: -123.93490483198858 (1), AVG Score: -221.53856452104176\n",
            "Episode 6/700, Score: -213.73469614541943 (1), AVG Score: -220.42372618166715\n",
            "Episode 7/700, Score: -102.70367932254912 (1), AVG Score: -205.70872032427738\n",
            "Episode 8/700, Score: -95.2705832343059 (1), AVG Score: -193.43781620316943\n",
            "Episode 9/700, Score: -108.46850948106693 (1), AVG Score: -184.94088553095918\n",
            "Episode 10/700, Score: -152.0058851215494 (1), AVG Score: -181.9467945846492\n",
            "Episode 11/700, Score: -108.10219317165296 (1), AVG Score: -175.79307780023285\n",
            "Episode 12/700, Score: -174.73481310150547 (1), AVG Score: -175.7116728234077\n",
            "Episode 13/700, Score: -141.01897761691475 (1), AVG Score: -173.23362316580102\n",
            "Episode 14/700, Score: -347.92462363263485 (1), AVG Score: -184.87968986358996\n",
            "Episode 15/700, Score: -185.09131154593106 (1), AVG Score: -184.89291621873627\n",
            "Episode 16/700, Score: -147.27340068577985 (1), AVG Score: -182.68000354032708\n",
            "Episode 17/700, Score: -110.93470717997084 (1), AVG Score: -178.6941537425295\n",
            "Episode 18/700, Score: -132.78253342757128 (1), AVG Score: -176.27775267332117\n",
            "Episode 19/700, Score: -192.18114757950383 (1), AVG Score: -177.0729224186303\n",
            "Episode 20/700, Score: -162.30803357565998 (1), AVG Score: -176.36983247372694\n",
            "Episode 21/700, Score: -241.51485664213197 (1), AVG Score: -179.3309699359272\n",
            "Episode 22/700, Score: -293.7014417230324 (1), AVG Score: -184.3035991440622\n",
            "Episode 23/700, Score: -154.65389517097256 (1), AVG Score: -183.06819481185016\n",
            "Episode 24/700, Score: -169.34624568097968 (1), AVG Score: -182.51931684661534\n",
            "Episode 25/700, Score: -202.2943854036123 (1), AVG Score: -183.27989640649983\n",
            "Episode 26/700, Score: -27.584721524649723 (1), AVG Score: -177.51340844791278\n",
            "Episode 27/700, Score: -179.68270832612083 (1), AVG Score: -177.59088344356306\n",
            "Episode 28/700, Score: -122.54505752284362 (1), AVG Score: -175.69275151526236\n",
            "Episode 29/700, Score: -346.87200992775865 (1), AVG Score: -181.39872679567893\n",
            "Episode 30/700, Score: -173.7594033802102 (1), AVG Score: -181.15229700808314\n",
            "Episode 31/700, Score: -121.15944970849212 (1), AVG Score: -179.27752052997096\n",
            "Episode 32/700, Score: -171.87448585404852 (1), AVG Score: -179.0531861458521\n",
            "Episode 33/700, Score: -122.79172994813034 (1), AVG Score: -177.3984374341544\n",
            "Episode 34/700, Score: -145.41144862989873 (1), AVG Score: -176.4845234683185\n",
            "Episode 35/700, Score: -141.79774311991213 (1), AVG Score: -175.5210017919739\n",
            "Episode 36/700, Score: -101.7641233750171 (1), AVG Score: -173.52757264556968\n",
            "Episode 37/700, Score: -359.53302369469105 (1), AVG Score: -178.42245293633604\n",
            "Episode 38/700, Score: -503.2249154781912 (1), AVG Score: -186.75072120664\n",
            "Episode 39/700, Score: -108.84480181057855 (1), AVG Score: -184.80307322173843\n",
            "Episode 40/700, Score: -158.01474065589252 (1), AVG Score: -184.1496992567178\n",
            "Episode 41/700, Score: -58.83993586379913 (1), AVG Score: -181.16613346164831\n",
            "Episode 42/700, Score: -112.44134356909957 (1), AVG Score: -179.56788253391463\n",
            "Episode 43/700, Score: -298.7756293940348 (1), AVG Score: -182.27714950800825\n",
            "Episode 44/700, Score: -184.92105903491674 (1), AVG Score: -182.33590305305066\n",
            "Episode 45/700, Score: -305.1676874718671 (1), AVG Score: -185.0061592360684\n",
            "Episode 46/700, Score: -354.8840047110075 (1), AVG Score: -188.62058148021606\n",
            "Episode 47/700, Score: -204.28200524032033 (1), AVG Score: -188.94686114188494\n",
            "Episode 48/700, Score: -206.65728269701347 (1), AVG Score: -189.30829831647938\n",
            "Episode 49/700, Score: -139.0883503853282 (1), AVG Score: -188.30389935785635\n",
            "Episode 50/700, Score: -153.31927199819364 (1), AVG Score: -187.61792627237278\n",
            "Episode 51/700, Score: -109.29942402885104 (1), AVG Score: -186.11180122922815\n",
            "Episode 52/700, Score: -122.3558618200104 (1), AVG Score: -184.90885897622402\n",
            "Episode 53/700, Score: -80.54695102486134 (1), AVG Score: -182.9762310511988\n",
            "Episode 54/700, Score: -95.07042242870278 (1), AVG Score: -181.37794362169888\n",
            "Episode 55/700, Score: -141.4433960660458 (1), AVG Score: -180.6648267010622\n",
            "Episode 56/700, Score: -89.46672976408676 (1), AVG Score: -179.0648600881328\n",
            "Episode 57/700, Score: -93.40161943733483 (1), AVG Score: -177.58790766311904\n",
            "Episode 58/700, Score: -174.7829117809233 (1), AVG Score: -177.540365360031\n",
            "Episode 59/700, Score: -128.96986287029304 (1), AVG Score: -176.73085698520202\n",
            "Episode 60/700, Score: -111.23489512885398 (1), AVG Score: -175.657152692475\n",
            "Episode 61/700, Score: -115.5646533555476 (1), AVG Score: -174.68791883220197\n",
            "Episode 62/700, Score: -127.39120017323285 (1), AVG Score: -173.9371772661866\n",
            "Episode 63/700, Score: -117.89866788843398 (1), AVG Score: -173.0615755571592\n",
            "Episode 64/700, Score: -64.05391914757143 (1), AVG Score: -171.38453468931937\n",
            "Episode 65/700, Score: -102.34817666621566 (1), AVG Score: -170.33852926472687\n",
            "Episode 66/700, Score: -118.49603759042081 (1), AVG Score: -169.56476073227455\n",
            "Episode 67/700, Score: -57.436130504314754 (1), AVG Score: -167.91581028774573\n",
            "Episode 68/700, Score: -90.77037118064229 (1), AVG Score: -166.79776044561382\n",
            "Episode 69/700, Score: -85.18884913889995 (1), AVG Score: -165.6319188555179\n",
            "Episode 70/700, Score: -37.83895632996525 (1), AVG Score: -163.83201797487632\n",
            "Episode 71/700, Score: -119.27586289353117 (1), AVG Score: -163.2131824876354\n",
            "Episode 72/700, Score: -199.25476847731835 (1), AVG Score: -163.70690284365844\n",
            "Episode 73/700, Score: -182.65664192171252 (1), AVG Score: -163.9629803987673\n",
            "Episode 74/700, Score: -12.455143773424583 (1), AVG Score: -161.9428759104294\n",
            "Episode 75/700, Score: -27.79946438457975 (1), AVG Score: -160.17783102193135\n",
            "Episode 76/700, Score: -101.58388098190291 (1), AVG Score: -159.41687063180112\n",
            "Episode 77/700, Score: -46.5042360114081 (1), AVG Score: -157.9692727520525\n",
            "Episode 78/700, Score: -70.36166210285506 (1), AVG Score: -156.86031565522723\n",
            "Episode 79/700, Score: -104.20546417888916 (1), AVG Score: -156.20213001177302\n",
            "Episode 80/700, Score: -21.16204931340696 (1), AVG Score: -154.53496852166973\n",
            "Episode 81/700, Score: -11.563637641754667 (1), AVG Score: -152.791415706061\n",
            "Episode 82/700, Score: -35.781995500684786 (1), AVG Score: -151.38166365539382\n",
            "Episode 83/700, Score: -31.3879406053171 (1), AVG Score: -149.95316695241672\n",
            "Episode 84/700, Score: -155.02017390529704 (1), AVG Score: -150.0127787989212\n",
            "Episode 85/700, Score: -41.38238494720019 (1), AVG Score: -148.74963468436633\n",
            "Episode 86/700, Score: -68.92314845305252 (1), AVG Score: -147.83208886561556\n",
            "Episode 87/700, Score: -49.99969580635462 (1), AVG Score: -146.72035712630577\n",
            "Episode 88/700, Score: -127.61179373301465 (1), AVG Score: -146.5056541668306\n",
            "Episode 89/700, Score: -81.24845294218015 (1), AVG Score: -145.78057415322337\n",
            "Episode 90/700, Score: -41.59898953232571 (1), AVG Score: -144.63572157497174\n",
            "Episode 91/700, Score: -58.23978356733645 (1), AVG Score: -143.69663529228004\n",
            "Episode 92/700, Score: -42.505234005680244 (1), AVG Score: -142.60855570855318\n",
            "Episode 93/700, Score: -63.090372837034536 (1), AVG Score: -141.76261759289872\n",
            "Episode 94/700, Score: -65.59249159620052 (1), AVG Score: -140.96082679293346\n",
            "Episode 95/700, Score: -35.06458208165253 (1), AVG Score: -139.85774091052429\n",
            "Episode 96/700, Score: -63.55771695978031 (1), AVG Score: -139.07114272546505\n",
            "Episode 97/700, Score: -63.15265671484635 (1), AVG Score: -138.29646429678527\n",
            "Episode 98/700, Score: -62.478144508664286 (1), AVG Score: -137.53062268276386\n",
            "Episode 99/700, Score: -66.47977847982851 (1), AVG Score: -136.8201142407345\n",
            "Episode 100/700, Score: -19.53289918881871 (1), AVG Score: -133.90320065621302\n",
            "Episode 101/700, Score: -33.279030503256635 (1), AVG Score: -129.33489914291104\n",
            "Episode 102/700, Score: -104.24082037904147 (1), AVG Score: -127.64138880804532\n",
            "Episode 103/700, Score: -61.48683959647677 (1), AVG Score: -128.47157940534424\n",
            "Episode 104/700, Score: -65.80976870678047 (1), AVG Score: -127.61064300153562\n",
            "Episode 105/700, Score: -81.15349423657196 (1), AVG Score: -127.18282889558148\n",
            "Episode 106/700, Score: -32.889559530768075 (1), AVG Score: -125.37437752943497\n",
            "Episode 107/700, Score: -71.75148634705867 (1), AVG Score: -125.06485559968004\n",
            "Episode 108/700, Score: -106.8696186422201 (1), AVG Score: -125.1808459537592\n",
            "Episode 109/700, Score: -119.96000544819663 (1), AVG Score: -125.2957609134305\n",
            "Episode 110/700, Score: -26.221838954321658 (1), AVG Score: -124.03792045175823\n",
            "Episode 111/700, Score: -63.18268182381641 (1), AVG Score: -123.58872533827984\n",
            "Episode 112/700, Score: -57.90905178569643 (1), AVG Score: -122.42046772512177\n",
            "Episode 113/700, Score: -49.041771854366004 (1), AVG Score: -121.50069566749627\n",
            "Episode 114/700, Score: -53.89364729613847 (1), AVG Score: -118.56038590413131\n",
            "Episode 115/700, Score: -26.116487556273597 (1), AVG Score: -116.97063766423473\n",
            "Episode 116/700, Score: -52.913333786802056 (1), AVG Score: -116.02703699524496\n",
            "Episode 117/700, Score: -20.161220045008477 (1), AVG Score: -115.11930212389532\n",
            "Episode 118/700, Score: -33.062307320847296 (1), AVG Score: -114.12209986282812\n",
            "Episode 119/700, Score: -37.938243796244166 (1), AVG Score: -112.57967082499552\n",
            "Episode 120/700, Score: -51.85199642457175 (1), AVG Score: -111.47511045348463\n",
            "Episode 121/700, Score: -53.25366117005491 (1), AVG Score: -109.59249849876383\n",
            "Episode 122/700, Score: -61.61068291567964 (1), AVG Score: -107.27159091069032\n",
            "Episode 123/700, Score: -22.842055875727166 (1), AVG Score: -105.95347251773786\n",
            "Episode 124/700, Score: -58.5672493519066 (1), AVG Score: -104.84568255444714\n",
            "Episode 125/700, Score: -96.73484929345638 (1), AVG Score: -103.79008719334558\n",
            "Episode 126/700, Score: -102.91895205862066 (1), AVG Score: -104.54342949868528\n",
            "Episode 127/700, Score: -21.363388027571244 (1), AVG Score: -102.9602362956998\n",
            "Episode 128/700, Score: -45.78014128997968 (1), AVG Score: -102.19258713337115\n",
            "Episode 129/700, Score: -122.48186572071691 (1), AVG Score: -99.94868569130072\n",
            "Episode 130/700, Score: -33.660819795198066 (1), AVG Score: -98.54769985545059\n",
            "Episode 131/700, Score: -63.886641479836854 (1), AVG Score: -97.97497177316406\n",
            "Episode 132/700, Score: -195.59206497873714 (1), AVG Score: -98.21214756441094\n",
            "Episode 133/700, Score: -76.22380107353433 (1), AVG Score: -97.746468275665\n",
            "Episode 134/700, Score: -55.70366882987686 (1), AVG Score: -96.84939047766478\n",
            "Episode 135/700, Score: -26.306837498686466 (1), AVG Score: -95.69448142145252\n",
            "Episode 136/700, Score: -41.31859455561125 (1), AVG Score: -95.09002613325845\n",
            "Episode 137/700, Score: -206.7201061086294 (1), AVG Score: -93.56189695739783\n",
            "Episode 138/700, Score: -50.29384786517565 (1), AVG Score: -89.03258628126768\n",
            "Episode 139/700, Score: -41.49549233928027 (1), AVG Score: -88.35909318655469\n",
            "Episode 140/700, Score: -90.36291822769356 (1), AVG Score: -87.6825749622727\n",
            "Episode 141/700, Score: -38.51716927336289 (1), AVG Score: -87.47934729636832\n",
            "Episode 142/700, Score: -349.777385767025 (1), AVG Score: -89.85270771834759\n",
            "Episode 143/700, Score: -132.87978775585583 (1), AVG Score: -88.1937493019658\n",
            "Episode 144/700, Score: -26.423459916323406 (1), AVG Score: -86.60877331077987\n",
            "Episode 145/700, Score: -13.97882113284533 (1), AVG Score: -83.69688464738965\n",
            "Episode 146/700, Score: -33.59399118784358 (1), AVG Score: -80.48398451215802\n",
            "Episode 147/700, Score: -30.155497572328635 (1), AVG Score: -78.7427194354781\n",
            "Episode 148/700, Score: 150.7653248261252 (1), AVG Score: -75.16849336024671\n",
            "Episode 149/700, Score: -148.62983078088135 (1), AVG Score: -75.26390816420223\n",
            "Episode 150/700, Score: -137.32378682695685 (1), AVG Score: -75.10395331248988\n",
            "Episode 151/700, Score: -75.4026461740244 (1), AVG Score: -74.76498553394161\n",
            "Episode 152/700, Score: -29.860362761190586 (1), AVG Score: -73.84003054335342\n",
            "Episode 153/700, Score: -231.70676763267483 (1), AVG Score: -75.35162870943155\n",
            "Episode 154/700, Score: -112.0703636419619 (1), AVG Score: -75.52162812156415\n",
            "Episode 155/700, Score: -66.21849096979585 (1), AVG Score: -74.76937907060166\n",
            "Episode 156/700, Score: -193.44384769615917 (1), AVG Score: -75.80915024992238\n",
            "Episode 157/700, Score: -212.6189309389418 (1), AVG Score: -77.00132336493846\n",
            "Episode 158/700, Score: -100.28475143179054 (1), AVG Score: -76.25634176144712\n",
            "Episode 159/700, Score: 3.1352213824921122 (1), AVG Score: -74.93529091891928\n",
            "Episode 160/700, Score: -170.05712802559015 (1), AVG Score: -75.52351324788661\n",
            "Episode 161/700, Score: -72.14827172047818 (1), AVG Score: -75.08934943153592\n",
            "Episode 162/700, Score: -46.43048928189617 (1), AVG Score: -74.27974232262255\n",
            "Episode 163/700, Score: -329.3334264622149 (1), AVG Score: -76.39408990836037\n",
            "Episode 164/700, Score: -190.22682177896945 (1), AVG Score: -77.65581893467436\n",
            "Episode 165/700, Score: -7.601612568487212 (1), AVG Score: -76.70835329369707\n",
            "Episode 166/700, Score: -13.342968551252824 (1), AVG Score: -75.65682260330539\n",
            "Episode 167/700, Score: -41.15776772177671 (1), AVG Score: -75.49403897548001\n",
            "Episode 168/700, Score: -217.40026405365123 (1), AVG Score: -76.76033790421009\n",
            "Episode 169/700, Score: -94.75026581001308 (1), AVG Score: -76.85595207092122\n",
            "Episode 170/700, Score: -123.2907000934112 (1), AVG Score: -77.71046950855568\n",
            "Episode 171/700, Score: -126.82035377871046 (1), AVG Score: -77.78591441740747\n",
            "Episode 172/700, Score: -144.6408791945292 (1), AVG Score: -77.23977552457958\n",
            "Episode 173/700, Score: -185.4060796589562 (1), AVG Score: -77.26726990195202\n",
            "Episode 174/700, Score: -11.981887147881748 (1), AVG Score: -77.26253733569659\n",
            "Episode 175/700, Score: -5.8664563630597275 (1), AVG Score: -77.04320725548139\n",
            "Episode 176/700, Score: 217.47752144925923 (1), AVG Score: -73.85259323116978\n",
            "Episode 177/700, Score: -429.9777783926845 (1), AVG Score: -77.68732865498254\n",
            "Episode 178/700, Score: -331.1845382939882 (1), AVG Score: -80.29555741689387\n",
            "Episode 179/700, Score: -66.09153188242233 (1), AVG Score: -79.9144180939292\n",
            "Episode 180/700, Score: -65.34786262167171 (1), AVG Score: -80.35627622701185\n",
            "Episode 181/700, Score: -44.91823878973926 (1), AVG Score: -80.68982223849169\n",
            "Episode 182/700, Score: -27.56793127123603 (1), AVG Score: -80.6076815961972\n",
            "Episode 183/700, Score: 10.161506141626553 (1), AVG Score: -80.19218712872777\n",
            "Episode 184/700, Score: -186.00096721296677 (1), AVG Score: -80.50199506180445\n",
            "Episode 185/700, Score: -16.111639246746925 (1), AVG Score: -80.24928760479992\n",
            "Episode 186/700, Score: -69.08307098254578 (1), AVG Score: -80.25088683009486\n",
            "Episode 187/700, Score: -25.623536662859053 (1), AVG Score: -80.0071252386599\n",
            "Episode 188/700, Score: -16.829502146769027 (1), AVG Score: -78.89930232279744\n",
            "Episode 189/700, Score: -183.94037986480748 (1), AVG Score: -79.92622159202372\n",
            "Episode 190/700, Score: -25.120903254186686 (1), AVG Score: -79.76144072924234\n",
            "Episode 191/700, Score: -128.672854143633 (1), AVG Score: -80.4657714350053\n",
            "Episode 192/700, Score: -71.36952255393231 (1), AVG Score: -80.75441432048783\n",
            "Episode 193/700, Score: -64.41973350306179 (1), AVG Score: -80.76770792714811\n",
            "Episode 194/700, Score: -179.37216893012186 (1), AVG Score: -81.90550470048731\n",
            "Episode 195/700, Score: -17.444983078140254 (1), AVG Score: -81.7293087104522\n",
            "Episode 196/700, Score: -185.03326684632736 (1), AVG Score: -82.94406420931767\n",
            "Episode 197/700, Score: 50.27775978715448 (1), AVG Score: -81.80976004429766\n",
            "Episode 198/700, Score: 10.345937372662714 (1), AVG Score: -81.08151922548437\n",
            "Episode 199/700, Score: -73.30303031822972 (1), AVG Score: -81.14975174386838\n",
            "Episode 200/700, Score: -39.41419507915949 (1), AVG Score: -81.3485647027718\n",
            "Episode 201/700, Score: 14.416042431847606 (1), AVG Score: -80.87161397342075\n",
            "Episode 202/700, Score: -38.488056057898106 (1), AVG Score: -80.21408633020931\n",
            "Episode 203/700, Score: 170.89461063808403 (1), AVG Score: -77.89027182786371\n",
            "Episode 204/700, Score: 140.9556839517237 (1), AVG Score: -75.82261730127867\n",
            "Episode 205/700, Score: -216.76372948127207 (1), AVG Score: -77.17871965372566\n",
            "Episode 206/700, Score: 9.120227844362635 (1), AVG Score: -76.75862177997436\n",
            "Episode 207/700, Score: 8.020637562580264 (1), AVG Score: -75.96090054087799\n",
            "Episode 208/700, Score: 189.76197519963785 (1), AVG Score: -72.99458460245938\n",
            "Episode 209/700, Score: 195.54492661130251 (1), AVG Score: -69.83953528186441\n",
            "Episode 210/700, Score: 190.29486015149536 (1), AVG Score: -67.67436829080623\n",
            "Episode 211/700, Score: -64.15647976149896 (1), AVG Score: -67.68410627018305\n",
            "Episode 212/700, Score: -182.4419372703539 (1), AVG Score: -68.92943512502963\n",
            "Episode 213/700, Score: -22.07370021943264 (1), AVG Score: -68.6597544086803\n",
            "Episode 214/700, Score: -36.0807776115325 (1), AVG Score: -68.48162571183425\n",
            "Episode 215/700, Score: -27.431997047963282 (1), AVG Score: -68.49478080675114\n",
            "Episode 216/700, Score: -341.009224954302 (1), AVG Score: -71.37573971842615\n",
            "Episode 217/700, Score: 226.2615775580718 (1), AVG Score: -68.91151174239535\n",
            "Episode 218/700, Score: 209.5831582894332 (1), AVG Score: -66.48505708629254\n",
            "Episode 219/700, Score: 113.70642564540047 (1), AVG Score: -64.96861039187608\n",
            "Episode 220/700, Score: -178.20707044138015 (1), AVG Score: -66.23216113204417\n",
            "Episode 221/700, Score: 187.91171096051556 (1), AVG Score: -63.82050741073846\n",
            "Episode 222/700, Score: 85.41448667386537 (1), AVG Score: -62.35025571484301\n",
            "Episode 223/700, Score: 104.60256876754994 (1), AVG Score: -61.075809468410235\n",
            "Episode 224/700, Score: 184.89544327426677 (1), AVG Score: -58.641182542148506\n",
            "Episode 225/700, Score: -244.3597109176806 (1), AVG Score: -60.11743115839076\n",
            "Episode 226/700, Score: 75.17719019906478 (1), AVG Score: -58.3364697358139\n",
            "Episode 227/700, Score: 190.90013654039797 (1), AVG Score: -56.213834490134204\n",
            "Episode 228/700, Score: 138.03938384880246 (1), AVG Score: -54.37563923874638\n",
            "Episode 229/700, Score: 199.1627561871482 (1), AVG Score: -51.159193019667725\n",
            "Episode 230/700, Score: 246.97395438508852 (1), AVG Score: -48.352845277864866\n",
            "Episode 231/700, Score: 255.1229824575514 (1), AVG Score: -45.16274903849099\n",
            "Episode 232/700, Score: 159.5626306808908 (1), AVG Score: -41.61120208189471\n",
            "Episode 233/700, Score: -41.14231613722886 (1), AVG Score: -41.260387232531656\n",
            "Episode 234/700, Score: 225.1082974268304 (1), AVG Score: -38.452267569964576\n",
            "Episode 235/700, Score: -89.05777155822652 (1), AVG Score: -39.079776910559985\n",
            "Episode 236/700, Score: -111.43860011295283 (1), AVG Score: -39.7809769661334\n",
            "Episode 237/700, Score: 108.81803689936883 (1), AVG Score: -36.62559553605342\n",
            "Episode 238/700, Score: -47.03826854465875 (1), AVG Score: -36.59303974284825\n",
            "Episode 239/700, Score: 110.39699202626011 (1), AVG Score: -35.07411489919284\n",
            "Episode 240/700, Score: 142.8772277270578 (1), AVG Score: -32.74171343964533\n",
            "Episode 241/700, Score: 211.59294279605993 (1), AVG Score: -30.240612318951104\n",
            "Episode 242/700, Score: 211.74576900006076 (1), AVG Score: -24.625380771280238\n",
            "Episode 243/700, Score: 239.73779510310212 (1), AVG Score: -20.899204942690663\n",
            "Episode 244/700, Score: 205.45548181500016 (1), AVG Score: -18.58041552537743\n",
            "Episode 245/700, Score: 247.99651677895199 (1), AVG Score: -15.960662146259454\n",
            "Episode 246/700, Score: 122.90499577200862 (1), AVG Score: -14.395672276660932\n",
            "Episode 247/700, Score: 236.70312598199388 (1), AVG Score: -11.727086041117705\n",
            "Episode 248/700, Score: 215.5900247240465 (1), AVG Score: -11.078839042138496\n",
            "Episode 249/700, Score: -236.20541924863565 (1), AVG Score: -11.954594926816037\n",
            "Episode 250/700, Score: 213.7101435145757 (1), AVG Score: -8.444255623400714\n",
            "Episode 251/700, Score: 6.238665926948727 (1), AVG Score: -7.6278425023909815\n",
            "Episode 252/700, Score: 71.40969145897294 (1), AVG Score: -6.615141960189346\n",
            "Episode 253/700, Score: 69.55098574290791 (1), AVG Score: -3.602564426433517\n",
            "Episode 254/700, Score: 84.47191622683512 (1), AVG Score: -1.6371416277455473\n",
            "Episode 255/700, Score: 142.5920987385129 (1), AVG Score: 0.45096426933754075\n",
            "Episode 256/700, Score: -71.31410658993546 (1), AVG Score: 1.6722616803997812\n",
            "Episode 257/700, Score: 291.7237748637024 (1), AVG Score: 6.715688738426224\n",
            "Episode 258/700, Score: 232.9201742738765 (1), AVG Score: 10.047737995482894\n",
            "Episode 259/700, Score: 220.7090333984534 (1), AVG Score: 12.223476115642507\n",
            "Episode 260/700, Score: 48.536662209475764 (1), AVG Score: 14.409414017993162\n",
            "Episode 261/700, Score: -21.61913205661557 (1), AVG Score: 14.91470541463179\n",
            "Episode 262/700, Score: -47.33266041267254 (1), AVG Score: 14.905683703324025\n",
            "Episode 263/700, Score: 211.4129249823788 (1), AVG Score: 20.313147217769963\n",
            "Episode 264/700, Score: -41.95496141617893 (1), AVG Score: 21.795865821397875\n",
            "Episode 265/700, Score: 106.03209385427326 (1), AVG Score: 22.932202885625475\n",
            "Episode 266/700, Score: 109.1856898904507 (1), AVG Score: 24.15748947004251\n",
            "Episode 267/700, Score: 44.267944867587886 (1), AVG Score: 25.01174659593616\n",
            "Episode 268/700, Score: 134.2754941418067 (1), AVG Score: 28.528504177890735\n",
            "Episode 269/700, Score: 119.05432476582637 (1), AVG Score: 30.66655008364913\n",
            "Episode 270/700, Score: 126.05124875457784 (1), AVG Score: 33.15996957212903\n",
            "Episode 271/700, Score: 129.60687866716802 (1), AVG Score: 35.724241896587806\n",
            "Episode 272/700, Score: -25.170975549041785 (1), AVG Score: 36.91894093304268\n",
            "Episode 273/700, Score: 4.993505703436853 (1), AVG Score: 38.82293678666661\n",
            "Episode 274/700, Score: -69.62348192717697 (1), AVG Score: 38.24652083887365\n",
            "Episode 275/700, Score: 169.1279429621047 (1), AVG Score: 39.99646483212529\n",
            "Episode 276/700, Score: 169.10358092994468 (1), AVG Score: 39.51272542693215\n",
            "Episode 277/700, Score: 108.9006940947683 (1), AVG Score: 44.90151015180669\n",
            "Episode 278/700, Score: 174.3441823005162 (1), AVG Score: 49.95679735775172\n",
            "Episode 279/700, Score: 199.5122595878563 (1), AVG Score: 52.61283527245451\n",
            "Episode 280/700, Score: 227.77862949078062 (1), AVG Score: 55.54410019357904\n",
            "Episode 281/700, Score: 258.7069606943171 (1), AVG Score: 58.58035218841961\n",
            "Episode 282/700, Score: 143.70306174679337 (1), AVG Score: 60.2930621185999\n",
            "Episode 283/700, Score: 88.84184719231403 (1), AVG Score: 61.07986552910678\n",
            "Episode 284/700, Score: 44.331536024951276 (1), AVG Score: 63.38319056148596\n",
            "Episode 285/700, Score: 266.76318722769554 (1), AVG Score: 66.2119388262304\n",
            "Episode 286/700, Score: 133.22903730580876 (1), AVG Score: 68.23505990911393\n",
            "Episode 287/700, Score: 152.74956493136702 (1), AVG Score: 70.01879092505618\n",
            "Episode 288/700, Score: 35.6021525901694 (1), AVG Score: 70.54310747242556\n",
            "Episode 289/700, Score: 182.14310459664364 (1), AVG Score: 74.20394231704009\n",
            "Episode 290/700, Score: -131.93882204619527 (1), AVG Score: 73.13576312912\n",
            "Episode 291/700, Score: 104.25483103208374 (1), AVG Score: 75.46503998087717\n",
            "Episode 292/700, Score: -291.95613289365514 (1), AVG Score: 73.25917387747992\n",
            "Episode 293/700, Score: -221.4788587968357 (1), AVG Score: 71.68858262454219\n",
            "Episode 294/700, Score: 265.37938729749817 (1), AVG Score: 76.13609818681839\n",
            "Episode 295/700, Score: 119.74622876595959 (1), AVG Score: 77.50801030525939\n",
            "Episode 296/700, Score: 208.78023867745884 (1), AVG Score: 81.44614536049725\n",
            "Episode 297/700, Score: 262.38249244830223 (1), AVG Score: 83.56719268710874\n",
            "Episode 298/700, Score: 126.97578476626227 (1), AVG Score: 84.73349116104473\n",
            "Episode 299/700, Score: 220.38205079492707 (1), AVG Score: 87.6703419721763\n",
            "Episode 300/700, Score: 249.88277405790217 (1), AVG Score: 90.5633116635469\n",
            "Episode 301/700, Score: 41.48658954188927 (1), AVG Score: 90.83401713464733\n",
            "Episode 302/700, Score: 140.66791875346826 (1), AVG Score: 92.62557688276098\n",
            "Episode 303/700, Score: 147.56595535915702 (1), AVG Score: 92.39229032997171\n",
            "Episode 304/700, Score: 0.19202012158048842 (1), AVG Score: 90.98465369167029\n",
            "Episode 305/700, Score: 279.253139099959 (1), AVG Score: 95.94482237748258\n",
            "Episode 306/700, Score: 241.45373881115896 (1), AVG Score: 98.26815748715056\n",
            "Episode 307/700, Score: 6.596359992973902 (1), AVG Score: 98.25391471145448\n",
            "Episode 308/700, Score: -59.97865324263161 (1), AVG Score: 95.7565084270318\n",
            "Episode 309/700, Score: 33.356607496888074 (1), AVG Score: 94.13462523588765\n",
            "Episode 310/700, Score: 120.41929415068546 (1), AVG Score: 93.43586957587956\n",
            "Episode 311/700, Score: 130.69852669137342 (1), AVG Score: 95.38441964040828\n",
            "Episode 312/700, Score: 28.393664107460978 (1), AVG Score: 97.49277565418643\n",
            "Episode 313/700, Score: -2.485971967246954 (1), AVG Score: 97.68865293670828\n",
            "Episode 314/700, Score: -167.73743668900204 (1), AVG Score: 96.37208634593361\n",
            "Episode 315/700, Score: 217.8654449220251 (1), AVG Score: 98.82506076563348\n",
            "Episode 316/700, Score: 188.96263688555462 (1), AVG Score: 104.12477938403204\n",
            "Episode 317/700, Score: 230.9532058784647 (1), AVG Score: 104.17169566723598\n",
            "Episode 318/700, Score: 284.80755916132887 (1), AVG Score: 104.92393967595495\n",
            "Episode 319/700, Score: 285.86607057735995 (1), AVG Score: 106.64553612527453\n",
            "Episode 320/700, Score: 172.86919248160297 (1), AVG Score: 110.15629875450436\n",
            "Episode 321/700, Score: 246.7563914313586 (1), AVG Score: 110.74474555921279\n",
            "Episode 322/700, Score: 268.9745460903018 (1), AVG Score: 112.58034615337716\n",
            "Episode 323/700, Score: -136.80046713223328 (1), AVG Score: 110.1663157943793\n",
            "Episode 324/700, Score: 238.20336714153473 (1), AVG Score: 110.69939503305199\n",
            "Episode 325/700, Score: 279.91806257258185 (1), AVG Score: 115.94217276795462\n",
            "Episode 326/700, Score: 206.6065026524663 (1), AVG Score: 117.25646589248863\n",
            "Episode 327/700, Score: 280.0120951098378 (1), AVG Score: 118.14758547818305\n",
            "Episode 328/700, Score: 278.18445758663677 (1), AVG Score: 119.54903621556139\n",
            "Episode 329/700, Score: 286.99834558692896 (1), AVG Score: 120.4273921095592\n",
            "Episode 330/700, Score: 282.29612613754284 (1), AVG Score: 120.78061382708373\n",
            "Episode 331/700, Score: 258.7805934278989 (1), AVG Score: 120.8171899367872\n",
            "Episode 332/700, Score: 292.29178777989864 (1), AVG Score: 122.14448150777729\n",
            "Episode 333/700, Score: 295.5146647846161 (1), AVG Score: 125.51105131699573\n",
            "Episode 334/700, Score: 30.01905785331462 (1), AVG Score: 123.56015892126057\n",
            "Episode 335/700, Score: 255.1398803227497 (1), AVG Score: 127.00213544007032\n",
            "Episode 336/700, Score: 272.973182514505 (1), AVG Score: 130.8462532663449\n",
            "Episode 337/700, Score: 310.27960522270257 (1), AVG Score: 132.86086894957825\n",
            "Episode 338/700, Score: 284.2432595579294 (1), AVG Score: 136.17368423060412\n",
            "Episode 339/700, Score: 272.0745068171627 (1), AVG Score: 137.79045937851316\n",
            "Episode 340/700, Score: 248.96406373533014 (1), AVG Score: 138.8513277385959\n",
            "Episode 341/700, Score: 281.0662403376339 (1), AVG Score: 139.54606071401162\n",
            "Episode 342/700, Score: 282.38632252045943 (1), AVG Score: 140.25246624921562\n",
            "Episode 343/700, Score: 274.08778674916834 (1), AVG Score: 140.59596616567626\n",
            "Episode 344/700, Score: 282.9114740491473 (1), AVG Score: 141.37052608801775\n",
            "Episode 345/700, Score: 266.7643980669113 (1), AVG Score: 141.55820490089732\n",
            "Episode 346/700, Score: 247.69809343297197 (1), AVG Score: 142.80613587750696\n",
            "Episode 347/700, Score: 280.55916434591813 (1), AVG Score: 143.2446962611462\n",
            "Episode 348/700, Score: 272.500215068044 (1), AVG Score: 143.8137981645862\n",
            "Episode 349/700, Score: 192.9561504536793 (1), AVG Score: 148.10541386160935\n",
            "Episode 350/700, Score: 199.75389928324313 (1), AVG Score: 147.965851419296\n",
            "Episode 351/700, Score: 267.39043036697274 (1), AVG Score: 150.5773690636963\n",
            "Episode 352/700, Score: 241.7111063599493 (1), AVG Score: 152.28038321270603\n",
            "Episode 353/700, Score: 262.2882111733967 (1), AVG Score: 154.2077554670109\n",
            "Episode 354/700, Score: 283.3957504898068 (1), AVG Score: 156.19699380964062\n",
            "Episode 355/700, Score: 264.0182325437239 (1), AVG Score: 157.4112551476927\n",
            "Episode 356/700, Score: 264.70873969476276 (1), AVG Score: 160.77148361053972\n",
            "Episode 357/700, Score: 269.35280831409256 (1), AVG Score: 160.5477739450436\n",
            "Episode 358/700, Score: 226.96427624766562 (1), AVG Score: 160.4882149647815\n",
            "Episode 359/700, Score: 293.62715511008486 (1), AVG Score: 161.2173961818978\n",
            "Episode 360/700, Score: 278.53758379133876 (1), AVG Score: 163.51740539771646\n",
            "Episode 361/700, Score: 273.8850446543206 (1), AVG Score: 166.47244716482578\n",
            "Episode 362/700, Score: 238.4731132839814 (1), AVG Score: 169.33050490179238\n",
            "Episode 363/700, Score: 224.59981153943122 (1), AVG Score: 169.4623737673629\n",
            "Episode 364/700, Score: 213.49631328422913 (1), AVG Score: 172.01688651436697\n",
            "Episode 365/700, Score: 242.40235948648203 (1), AVG Score: 173.380589170689\n",
            "Episode 366/700, Score: 306.8265559318738 (1), AVG Score: 175.35699783110329\n",
            "Episode 367/700, Score: 279.1532987025798 (1), AVG Score: 177.70585136945317\n",
            "Episode 368/700, Score: 252.40328033288426 (1), AVG Score: 178.88712923136393\n",
            "Episode 369/700, Score: 197.5912101360936 (1), AVG Score: 179.67249808506662\n",
            "Episode 370/700, Score: 48.168343047715155 (1), AVG Score: 178.89366902799802\n",
            "Episode 371/700, Score: 310.4687087384001 (1), AVG Score: 180.70228732871033\n",
            "Episode 372/700, Score: 234.2570090454358 (1), AVG Score: 183.2965671746551\n",
            "Episode 373/700, Score: 281.0125692978642 (1), AVG Score: 186.0567578105994\n",
            "Episode 374/700, Score: 280.88718354327585 (1), AVG Score: 189.56186446530396\n",
            "Episode 375/700, Score: -69.6214371749513 (1), AVG Score: 187.17437066393333\n",
            "Episode 376/700, Score: 243.2274647758302 (1), AVG Score: 187.91560950239224\n",
            "Episode 377/700, Score: 306.932407416218 (1), AVG Score: 189.8959266356067\n",
            "Episode 378/700, Score: -16.781191016570872 (1), AVG Score: 187.98467290243588\n",
            "Episode 379/700, Score: 259.73995636890805 (1), AVG Score: 188.58694987024634\n",
            "Episode 380/700, Score: 231.38210315808053 (1), AVG Score: 188.62298460691935\n",
            "Episode 381/700, Score: 44.64922693703363 (1), AVG Score: 186.4824072693465\n",
            "Episode 382/700, Score: 212.57841127956064 (1), AVG Score: 187.17116076467414\n",
            "Episode 383/700, Score: 194.09938913938197 (1), AVG Score: 188.22373618414483\n",
            "Episode 384/700, Score: -149.66545019183897 (1), AVG Score: 186.2837663219769\n",
            "Episode 385/700, Score: -356.3053958605486 (1), AVG Score: 180.0530804910945\n",
            "Episode 386/700, Score: -10.895972871359803 (1), AVG Score: 178.61183038932282\n",
            "Episode 387/700, Score: 206.1928784716659 (1), AVG Score: 179.14626352472584\n",
            "Episode 388/700, Score: -441.1107906382302 (1), AVG Score: 174.37913409244183\n",
            "Episode 389/700, Score: -455.394445103153 (1), AVG Score: 168.00375859544383\n",
            "Episode 390/700, Score: 259.32891680440343 (1), AVG Score: 171.91643598394984\n",
            "Episode 391/700, Score: 248.5352963065195 (1), AVG Score: 173.35924063669418\n",
            "Episode 392/700, Score: 243.7937068683398 (1), AVG Score: 178.71673903431417\n",
            "Episode 393/700, Score: -1.3969397967034354 (1), AVG Score: 180.91755822431548\n",
            "Episode 394/700, Score: 273.10954623962715 (1), AVG Score: 180.99485981373675\n",
            "Episode 395/700, Score: 239.46531838251036 (1), AVG Score: 182.19205070990225\n",
            "Episode 396/700, Score: 276.838651494897 (1), AVG Score: 182.87263483807666\n",
            "Episode 397/700, Score: -13.339455494778306 (1), AVG Score: 180.1154153586459\n",
            "Episode 398/700, Score: -48.07741798147937 (1), AVG Score: 178.36488333116847\n",
            "Episode 399/700, Score: 33.49849505260582 (1), AVG Score: 176.49604777374523\n",
            "Episode 400/700, Score: 249.12107909682408 (1), AVG Score: 176.48843082413444\n",
            "Episode 401/700, Score: 241.61917665747436 (1), AVG Score: 178.48975669529028\n",
            "Episode 402/700, Score: 241.14987002975246 (1), AVG Score: 179.4945762080531\n",
            "Episode 403/700, Score: 273.33169003433557 (1), AVG Score: 180.7522335548049\n",
            "Episode 404/700, Score: 284.86839578707577 (1), AVG Score: 183.59899731145987\n",
            "Episode 405/700, Score: -150.13348525369992 (1), AVG Score: 179.30513106792324\n",
            "Episode 406/700, Score: 262.8824730244851 (1), AVG Score: 179.5194184100565\n",
            "Episode 407/700, Score: -15.687820945490216 (1), AVG Score: 179.29657660067187\n",
            "Episode 408/700, Score: -172.8715992521114 (1), AVG Score: 178.16764714057706\n",
            "Episode 409/700, Score: 281.1554505884232 (1), AVG Score: 180.64563557149242\n",
            "Episode 410/700, Score: 276.97997710714526 (1), AVG Score: 182.21124240105704\n",
            "Episode 411/700, Score: 243.6554560474146 (1), AVG Score: 183.34081169461749\n",
            "Episode 412/700, Score: 285.0092555393961 (1), AVG Score: 185.90696760893678\n",
            "Episode 413/700, Score: 288.5397700888501 (1), AVG Score: 188.81722502949776\n",
            "Episode 414/700, Score: -113.51469059903548 (1), AVG Score: 189.35945249039742\n",
            "Episode 415/700, Score: 233.43434117457647 (1), AVG Score: 189.51514145292293\n",
            "Episode 416/700, Score: 222.46871652270337 (1), AVG Score: 189.85020224929443\n",
            "Episode 417/700, Score: 267.06477265450735 (1), AVG Score: 190.21131791705488\n",
            "Episode 418/700, Score: -279.9438863083635 (1), AVG Score: 184.56380346235798\n",
            "Episode 419/700, Score: 112.70839913583615 (1), AVG Score: 182.83222674794274\n",
            "Episode 420/700, Score: 251.99261636233587 (1), AVG Score: 183.62346098675005\n",
            "Episode 421/700, Score: 218.91281331376337 (1), AVG Score: 183.3450252055741\n",
            "Episode 422/700, Score: 264.73313550593355 (1), AVG Score: 183.30261109973043\n",
            "Episode 423/700, Score: 229.02981467052072 (1), AVG Score: 186.96091391775798\n",
            "Episode 424/700, Score: 282.3702885330325 (1), AVG Score: 187.4025831316729\n",
            "Episode 425/700, Score: 205.74820685482894 (1), AVG Score: 186.66088457449538\n",
            "Episode 426/700, Score: 262.32636276272467 (1), AVG Score: 187.218083175598\n",
            "Episode 427/700, Score: 255.0147323407194 (1), AVG Score: 186.96810954790683\n",
            "Episode 428/700, Score: 240.61915146977532 (1), AVG Score: 186.5924564867382\n",
            "Episode 429/700, Score: 257.5166760350495 (1), AVG Score: 186.29763979121938\n",
            "Episode 430/700, Score: 256.1754655360927 (1), AVG Score: 186.0364331852049\n",
            "Episode 431/700, Score: 185.44995175166608 (1), AVG Score: 185.3031267684426\n",
            "Episode 432/700, Score: 258.0817981739623 (1), AVG Score: 184.96102687238323\n",
            "Episode 433/700, Score: 283.6117726890748 (1), AVG Score: 184.8419979514278\n",
            "Episode 434/700, Score: 276.1050555180367 (1), AVG Score: 187.302857928075\n",
            "Episode 435/700, Score: 269.29995948674195 (1), AVG Score: 187.44445871971496\n",
            "Episode 436/700, Score: 163.47736470703245 (1), AVG Score: 186.34950054164023\n",
            "Episode 437/700, Score: 264.9434557923812 (1), AVG Score: 185.89613904733702\n",
            "Episode 438/700, Score: 278.0558020418671 (1), AVG Score: 185.83426447217644\n",
            "Episode 439/700, Score: 273.29592944708406 (1), AVG Score: 185.8464786984756\n",
            "Episode 440/700, Score: 273.30594396972776 (1), AVG Score: 186.0898975008196\n",
            "Episode 441/700, Score: 227.855450071881 (1), AVG Score: 185.5577895981621\n",
            "Episode 442/700, Score: 173.81472290145882 (1), AVG Score: 184.47207360197206\n",
            "Episode 443/700, Score: 277.40762059363544 (1), AVG Score: 184.50527194041672\n",
            "Episode 444/700, Score: 251.4161358054751 (1), AVG Score: 184.19031855797996\n",
            "Episode 445/700, Score: 34.978056675058156 (1), AVG Score: 181.87245514406143\n",
            "Episode 446/700, Score: 228.43899784666132 (1), AVG Score: 181.67986418819837\n",
            "Episode 447/700, Score: 294.6640880205142 (1), AVG Score: 181.8209134249443\n",
            "Episode 448/700, Score: 287.0338729005194 (1), AVG Score: 181.9662500032691\n",
            "Episode 449/700, Score: 254.82426694125473 (1), AVG Score: 182.5849311681448\n",
            "Episode 450/700, Score: 280.8946153157548 (1), AVG Score: 183.39633832846997\n",
            "Episode 451/700, Score: 9.680880396095944 (1), AVG Score: 180.81924282876116\n",
            "Episode 452/700, Score: 237.0607501921043 (1), AVG Score: 180.77273926708273\n",
            "Episode 453/700, Score: 292.2291532501906 (1), AVG Score: 181.07214868785067\n",
            "Episode 454/700, Score: 259.01842756976856 (1), AVG Score: 180.82837545865027\n",
            "Episode 455/700, Score: 291.6087334027819 (1), AVG Score: 181.10428046724087\n",
            "Episode 456/700, Score: 289.0606456189273 (1), AVG Score: 181.34779952648253\n",
            "Episode 457/700, Score: 263.1479716951342 (1), AVG Score: 181.2857511602929\n",
            "Episode 458/700, Score: 244.11004635039427 (1), AVG Score: 181.45720886132017\n",
            "Episode 459/700, Score: -257.27043447998733 (1), AVG Score: 175.94823296541944\n",
            "Episode 460/700, Score: 248.7020683430119 (1), AVG Score: 175.6498778109362\n",
            "Episode 461/700, Score: 235.54855477571985 (1), AVG Score: 175.2665129121502\n",
            "Episode 462/700, Score: 253.9273299971103 (1), AVG Score: 175.4210550792815\n",
            "Episode 463/700, Score: 287.3259922889286 (1), AVG Score: 176.04831688677643\n",
            "Episode 464/700, Score: 234.1221308762503 (1), AVG Score: 176.2545750626967\n",
            "Episode 465/700, Score: 286.5848653451283 (1), AVG Score: 176.69640012128315\n",
            "Episode 466/700, Score: 272.4378407703397 (1), AVG Score: 176.35251296966783\n",
            "Episode 467/700, Score: 280.9222580114498 (1), AVG Score: 176.3702025627565\n",
            "Episode 468/700, Score: 272.9267135375232 (1), AVG Score: 176.57543689480292\n",
            "Episode 469/700, Score: 246.14438900599362 (1), AVG Score: 177.0609686835019\n",
            "Episode 470/700, Score: 228.1054153210556 (1), AVG Score: 178.86033940623528\n",
            "Episode 471/700, Score: 272.96925481375854 (1), AVG Score: 178.48534486698884\n",
            "Episode 472/700, Score: 266.31776768066686 (1), AVG Score: 178.80595245334115\n",
            "Episode 473/700, Score: 212.34536775419252 (1), AVG Score: 178.11928043790442\n",
            "Episode 474/700, Score: 269.7478486121373 (1), AVG Score: 178.007887088593\n",
            "Episode 475/700, Score: 271.5009783050317 (1), AVG Score: 181.41911124339285\n",
            "Episode 476/700, Score: 283.86034133017057 (1), AVG Score: 181.82544000893628\n",
            "Episode 477/700, Score: 276.85797246579835 (1), AVG Score: 181.52469565943207\n",
            "Episode 478/700, Score: 256.42046185826274 (1), AVG Score: 184.25671218818042\n",
            "Episode 479/700, Score: 293.5723357263846 (1), AVG Score: 184.59503598175522\n",
            "Episode 480/700, Score: 290.4885318435945 (1), AVG Score: 185.18610026861035\n",
            "Episode 481/700, Score: 209.85084508930055 (1), AVG Score: 186.83811645013304\n",
            "Episode 482/700, Score: 249.394089413019 (1), AVG Score: 187.2062732314676\n",
            "Episode 483/700, Score: 280.28085460241357 (1), AVG Score: 188.06808788609794\n",
            "Episode 484/700, Score: 293.2070012081176 (1), AVG Score: 192.49681240009744\n",
            "Episode 485/700, Score: 278.48418004322855 (1), AVG Score: 198.84470815913522\n",
            "Episode 486/700, Score: 256.82753831245526 (1), AVG Score: 201.52194327097342\n",
            "Episode 487/700, Score: 222.71322823289546 (1), AVG Score: 201.6871467685857\n",
            "Episode 488/700, Score: 262.39509610899 (1), AVG Score: 208.7222056360579\n",
            "Episode 489/700, Score: 262.28540669347586 (1), AVG Score: 215.8990041540242\n",
            "Episode 490/700, Score: 281.5124968368517 (1), AVG Score: 216.12083995434867\n",
            "Episode 491/700, Score: 291.1843153635432 (1), AVG Score: 216.54733014491887\n",
            "Episode 492/700, Score: 250.3354643948377 (1), AVG Score: 216.61274772018385\n",
            "Episode 493/700, Score: -34.99490087544039 (1), AVG Score: 216.27676810939647\n",
            "Episode 494/700, Score: 244.83134736214467 (1), AVG Score: 215.99398612062166\n",
            "Episode 495/700, Score: 290.2742838518698 (1), AVG Score: 216.50207577531532\n",
            "Episode 496/700, Score: 291.07794758911314 (1), AVG Score: 216.64446873625747\n",
            "Episode 497/700, Score: 223.5601428763195 (1), AVG Score: 219.01346471996848\n",
            "Episode 498/700, Score: 257.7170866843655 (1), AVG Score: 222.07140976662689\n",
            "Episode 499/700, Score: 251.13380130541367 (1), AVG Score: 224.24776282915494\n",
            "Episode 500/700, Score: 294.4744917473988 (1), AVG Score: 224.7012969556607\n",
            "Episode 501/700, Score: 217.59970170867706 (1), AVG Score: 224.46110220617274\n",
            "Episode 502/700, Score: 294.3767301344699 (1), AVG Score: 224.99337080721986\n",
            "Episode 503/700, Score: -241.236223440948 (1), AVG Score: 219.84769167246708\n",
            "Episode 504/700, Score: 262.4853628131108 (1), AVG Score: 219.62386134272742\n",
            "Episode 505/700, Score: -0.5005601872743171 (1), AVG Score: 221.12019059339167\n",
            "Episode 506/700, Score: 210.4413344255734 (1), AVG Score: 220.59577920740256\n",
            "Episode 507/700, Score: 234.1348834525826 (1), AVG Score: 223.0940062513833\n",
            "Episode 508/700, Score: 240.12429904538425 (1), AVG Score: 227.22396523435825\n",
            "Episode 509/700, Score: 229.14516881001668 (1), AVG Score: 226.70386241657417\n",
            "Episode 510/700, Score: -1.9299309444812849 (1), AVG Score: 223.91476333605792\n",
            "Episode 511/700, Score: 260.6926409394156 (1), AVG Score: 224.08513518497793\n",
            "Episode 512/700, Score: 207.7854223631136 (1), AVG Score: 223.31289685321514\n",
            "Episode 513/700, Score: 202.53778687748593 (1), AVG Score: 222.45287702110144\n",
            "Episode 514/700, Score: 274.90174497521707 (1), AVG Score: 226.33704137684398\n",
            "Episode 515/700, Score: 250.05942243793083 (1), AVG Score: 226.50329218947755\n",
            "Episode 516/700, Score: 268.29243166056966 (1), AVG Score: 226.9615293408562\n",
            "Episode 517/700, Score: 276.5545917708823 (1), AVG Score: 227.05642753201994\n",
            "Episode 518/700, Score: 276.50444350294015 (1), AVG Score: 232.620910830133\n",
            "Episode 519/700, Score: 283.14749664036583 (1), AVG Score: 234.32530180517827\n",
            "Episode 520/700, Score: 280.1444369186669 (1), AVG Score: 234.6068200107416\n",
            "Episode 521/700, Score: -492.545842627812 (1), AVG Score: 227.49223345132586\n",
            "Episode 522/700, Score: -256.7177826028036 (1), AVG Score: 222.27772427023848\n",
            "Episode 523/700, Score: 260.02268228059046 (1), AVG Score: 222.58765294633915\n",
            "Episode 524/700, Score: -113.73998510120205 (1), AVG Score: 218.6265502099968\n",
            "Episode 525/700, Score: 279.044135662072 (1), AVG Score: 219.35950949806923\n",
            "Episode 526/700, Score: 266.3688401072518 (1), AVG Score: 219.3999342715145\n",
            "Episode 527/700, Score: 221.43753172088606 (1), AVG Score: 219.06416226531618\n",
            "Episode 528/700, Score: 272.0691391451244 (1), AVG Score: 219.3786621420697\n",
            "Episode 529/700, Score: 271.90415263195587 (1), AVG Score: 219.52253690803875\n",
            "Episode 530/700, Score: 264.75890998250475 (1), AVG Score: 219.6083713525029\n",
            "Episode 531/700, Score: 238.4560575264492 (1), AVG Score: 220.13843241025072\n",
            "Episode 532/700, Score: 251.38491313050105 (1), AVG Score: 220.07146355981607\n",
            "Episode 533/700, Score: 264.56831483162716 (1), AVG Score: 219.88102898124157\n",
            "Episode 534/700, Score: 280.9244120592555 (1), AVG Score: 219.92922254665376\n",
            "Episode 535/700, Score: 281.06552371777667 (1), AVG Score: 220.04687818896414\n",
            "Episode 536/700, Score: 242.47868401316754 (1), AVG Score: 220.8368913820255\n",
            "Episode 537/700, Score: -82.7772623299359 (1), AVG Score: 217.35968420080232\n",
            "Episode 538/700, Score: -112.0858532858154 (1), AVG Score: 213.4582676475255\n",
            "Episode 539/700, Score: 281.8709012347168 (1), AVG Score: 213.54401736540183\n",
            "Episode 540/700, Score: 268.7146007866095 (1), AVG Score: 213.49810393357063\n",
            "Episode 541/700, Score: 230.9754009485842 (1), AVG Score: 213.52930344233766\n",
            "Episode 542/700, Score: -52.134818547946004 (1), AVG Score: 211.26980802784362\n",
            "Episode 543/700, Score: 274.6136094158469 (1), AVG Score: 211.2418679160657\n",
            "Episode 544/700, Score: 239.24297729862778 (1), AVG Score: 211.12013633099724\n",
            "Episode 545/700, Score: 254.5154247687609 (1), AVG Score: 213.31551001193426\n",
            "Episode 546/700, Score: -124.62727248040179 (1), AVG Score: 209.78484730866367\n",
            "Episode 547/700, Score: -187.03513561764714 (1), AVG Score: 204.96785507228208\n",
            "Episode 548/700, Score: 254.60399156401337 (1), AVG Score: 204.643556258917\n",
            "Episode 549/700, Score: 194.7566682756712 (1), AVG Score: 204.04288027226113\n",
            "Episode 550/700, Score: 228.49068471381298 (1), AVG Score: 203.5188409662417\n",
            "Episode 551/700, Score: 253.26167041199358 (1), AVG Score: 205.95464886640067\n",
            "Episode 552/700, Score: 250.30500410891582 (1), AVG Score: 206.08709140556874\n",
            "Episode 553/700, Score: 257.04782550512357 (1), AVG Score: 205.73527812811815\n",
            "Episode 554/700, Score: 263.1013448165345 (1), AVG Score: 205.77610730058583\n",
            "Episode 555/700, Score: 258.59114423459147 (1), AVG Score: 205.44593140890393\n",
            "Episode 556/700, Score: 239.3787679842219 (1), AVG Score: 204.9491126325569\n",
            "Episode 557/700, Score: 186.34667970142146 (1), AVG Score: 204.18109971261975\n",
            "Episode 558/700, Score: -94.40306040020407 (1), AVG Score: 200.79596864511376\n",
            "Episode 559/700, Score: 278.98561154805554 (1), AVG Score: 206.15852910539417\n",
            "Episode 560/700, Score: 196.93272592758532 (1), AVG Score: 205.6408356812399\n",
            "Episode 561/700, Score: 162.5214522922439 (1), AVG Score: 204.9105646564051\n",
            "Episode 562/700, Score: 280.40653504010106 (1), AVG Score: 205.17535670683503\n",
            "Episode 563/700, Score: 276.9746841073642 (1), AVG Score: 205.0718436250194\n",
            "Episode 564/700, Score: 272.7761246368582 (1), AVG Score: 205.45838356262547\n",
            "Episode 565/700, Score: 249.39834380105532 (1), AVG Score: 205.08651834718472\n",
            "Episode 566/700, Score: 290.51117179500636 (1), AVG Score: 205.26725165743142\n",
            "Episode 567/700, Score: 142.27260651753681 (1), AVG Score: 203.88075514249226\n",
            "Episode 568/700, Score: 268.0835005034148 (1), AVG Score: 203.83232301215122\n",
            "Episode 569/700, Score: 267.92636969675056 (1), AVG Score: 204.05014281905875\n",
            "Episode 570/700, Score: 280.487201769281 (1), AVG Score: 204.57396068354097\n",
            "Episode 571/700, Score: 285.11431288084395 (1), AVG Score: 204.69541126421183\n",
            "Episode 572/700, Score: 291.48914428483636 (1), AVG Score: 204.94712503025352\n",
            "Episode 573/700, Score: 231.8913068228508 (1), AVG Score: 205.14258442094015\n",
            "Episode 574/700, Score: 250.2216277541949 (1), AVG Score: 204.94732221236075\n",
            "Episode 575/700, Score: 235.67296717667568 (1), AVG Score: 204.58904210107718\n",
            "Episode 576/700, Score: 240.635051909642 (1), AVG Score: 204.15678920687188\n",
            "Episode 577/700, Score: 279.31194438665136 (1), AVG Score: 204.18132892608045\n",
            "Episode 578/700, Score: 265.6405307404167 (1), AVG Score: 204.27352961490197\n",
            "Episode 579/700, Score: 265.6965597941045 (1), AVG Score: 203.99477185557916\n",
            "Episode 580/700, Score: 162.28358426155296 (1), AVG Score: 202.71272237975873\n",
            "Episode 581/700, Score: -26.84169467567945 (1), AVG Score: 200.34579698210894\n",
            "Episode 582/700, Score: 247.04612640578836 (1), AVG Score: 200.32231735203663\n",
            "Episode 583/700, Score: 281.7251886336926 (1), AVG Score: 200.33676069234943\n",
            "Episode 584/700, Score: 226.27922583782373 (1), AVG Score: 199.6674829386465\n",
            "Episode 585/700, Score: 280.7636954067729 (1), AVG Score: 199.69027809228191\n",
            "Episode 586/700, Score: 280.61101479101796 (1), AVG Score: 199.92811285706756\n",
            "Episode 587/700, Score: 248.68796813552188 (1), AVG Score: 200.1878602560938\n",
            "Episode 588/700, Score: 36.10588246346839 (1), AVG Score: 197.92496811963858\n",
            "Episode 589/700, Score: 209.1852390062826 (1), AVG Score: 197.39396644276664\n",
            "Episode 590/700, Score: 265.53821343610355 (1), AVG Score: 197.23422360875912\n",
            "Episode 591/700, Score: 292.232775557953 (1), AVG Score: 197.24470821070324\n",
            "Episode 592/700, Score: 245.5003805694974 (1), AVG Score: 197.19635737244988\n",
            "Episode 593/700, Score: 245.58954966220278 (1), AVG Score: 200.0022018778263\n",
            "Episode 594/700, Score: 253.83401296693643 (1), AVG Score: 200.09222853387425\n",
            "Episode 595/700, Score: 304.4822194852445 (1), AVG Score: 200.23430789020804\n",
            "Episode 596/700, Score: 265.45568471782497 (1), AVG Score: 199.97808526149515\n",
            "Episode 597/700, Score: 299.4590820937475 (1), AVG Score: 200.7370746536694\n",
            "Episode 598/700, Score: 288.3959401102005 (1), AVG Score: 201.04386318792777\n",
            "Episode 599/700, Score: 290.8376983391607 (1), AVG Score: 201.4409021582652\n",
            "Episode 600/700, Score: 194.8438761736178 (1), AVG Score: 200.4445960025274\n",
            "Episode 601/700, Score: -807.8725228045244 (1), AVG Score: 190.18987375739536\n",
            "Episode 602/700, Score: -714.4298060171293 (1), AVG Score: 180.1018083958794\n",
            "Episode 603/700, Score: -395.9984671418127 (1), AVG Score: 178.55418595887073\n",
            "Episode 604/700, Score: 260.60410663684394 (1), AVG Score: 178.53537339710806\n",
            "Episode 605/700, Score: -140.0493714157759 (1), AVG Score: 177.1398852848231\n",
            "Episode 606/700, Score: 243.72365659744145 (1), AVG Score: 177.47270850654178\n",
            "Episode 607/700, Score: -190.48065296701947 (1), AVG Score: 173.22655314234572\n",
            "Episode 608/700, Score: -353.75581588473153 (1), AVG Score: 167.28775199304454\n",
            "Episode 609/700, Score: -147.87697634431024 (1), AVG Score: 163.5175305415013\n",
            "Episode 610/700, Score: 302.3706688564662 (1), AVG Score: 166.56053653951074\n",
            "Episode 611/700, Score: 170.9769624886918 (1), AVG Score: 165.6633797550035\n",
            "Episode 612/700, Score: 292.87274605974517 (1), AVG Score: 166.51425299196984\n",
            "Episode 613/700, Score: 282.4706817913469 (1), AVG Score: 167.31358194110845\n",
            "Episode 614/700, Score: 28.87430147380863 (1), AVG Score: 164.85330750609438\n",
            "Episode 615/700, Score: -60.99746454832694 (1), AVG Score: 161.74273863623176\n",
            "Episode 616/700, Score: -194.49188704097838 (1), AVG Score: 157.1148954492163\n",
            "Episode 617/700, Score: -134.34660165073052 (1), AVG Score: 153.00588351500016\n",
            "Episode 618/700, Score: 252.06278303612913 (1), AVG Score: 152.7614669103321\n",
            "Episode 619/700, Score: -47.76442795368693 (1), AVG Score: 149.45234766439154\n",
            "Episode 620/700, Score: -158.34293542518446 (1), AVG Score: 145.06747394095305\n",
            "Episode 621/700, Score: 227.3580211087043 (1), AVG Score: 152.2665125783182\n",
            "Episode 622/700, Score: 192.48369629358518 (1), AVG Score: 156.7585273672821\n",
            "Episode 623/700, Score: -143.81527266788578 (1), AVG Score: 152.72014781779734\n",
            "Episode 624/700, Score: -325.2418846549034 (1), AVG Score: 150.60512882226035\n",
            "Episode 625/700, Score: 223.4539893721065 (1), AVG Score: 150.04922735936069\n",
            "Episode 626/700, Score: 200.03653557240418 (1), AVG Score: 149.3859043140122\n",
            "Episode 627/700, Score: -152.45760396187114 (1), AVG Score: 145.64695295718462\n",
            "Episode 628/700, Score: -137.98638289895908 (1), AVG Score: 141.5463977367438\n",
            "Episode 629/700, Score: -109.4683530448287 (1), AVG Score: 137.73267267997593\n",
            "Episode 630/700, Score: -195.36089984691625 (1), AVG Score: 133.13147458168172\n",
            "Episode 631/700, Score: -273.6376115437771 (1), AVG Score: 128.01053789097944\n",
            "Episode 632/700, Score: -308.2866359342386 (1), AVG Score: 122.41382240033205\n",
            "Episode 633/700, Score: 37.84243243224609 (1), AVG Score: 120.14656357633822\n",
            "Episode 634/700, Score: -235.8065832315072 (1), AVG Score: 114.9792536234306\n",
            "Episode 635/700, Score: 287.27212817452425 (1), AVG Score: 115.04131966799808\n",
            "Episode 636/700, Score: 275.31564103534157 (1), AVG Score: 115.36968923821982\n",
            "Episode 637/700, Score: 214.02571644690863 (1), AVG Score: 118.33771902598828\n",
            "Episode 638/700, Score: 180.11682838280848 (1), AVG Score: 121.25974584267453\n",
            "Episode 639/700, Score: 267.35249981667357 (1), AVG Score: 121.1145618284941\n",
            "Episode 640/700, Score: 276.08679591218225 (1), AVG Score: 121.18828377974984\n",
            "Episode 641/700, Score: 216.54618836658528 (1), AVG Score: 121.04399165392982\n",
            "Episode 642/700, Score: -107.04939178403109 (1), AVG Score: 120.494845921569\n",
            "Episode 643/700, Score: -114.53742521658046 (1), AVG Score: 116.60333557524471\n",
            "Episode 644/700, Score: -87.75318485199875 (1), AVG Score: 113.33337395373844\n",
            "Episode 645/700, Score: -357.93714417315243 (1), AVG Score: 107.2088482643193\n",
            "Episode 646/700, Score: -276.751915424752 (1), AVG Score: 105.6876018348758\n",
            "Episode 647/700, Score: 186.49196701822729 (1), AVG Score: 109.42287286123454\n",
            "Episode 648/700, Score: -153.6884650761046 (1), AVG Score: 105.33994829483338\n",
            "Episode 649/700, Score: 259.0460651171911 (1), AVG Score: 105.98284226324859\n",
            "Episode 650/700, Score: -36.293588665724215 (1), AVG Score: 103.33499952945319\n",
            "Episode 651/700, Score: 241.3459232233585 (1), AVG Score: 103.21584205756682\n",
            "Episode 652/700, Score: -481.5469686564677 (1), AVG Score: 95.89732232991297\n",
            "Episode 653/700, Score: -496.53258509110594 (1), AVG Score: 88.36151822395068\n",
            "Episode 654/700, Score: -648.5280397510961 (1), AVG Score: 79.24522437827437\n",
            "Episode 655/700, Score: -569.7713939460434 (1), AVG Score: 70.96159899646804\n",
            "Episode 656/700, Score: -566.9661796227136 (1), AVG Score: 62.89814952039869\n",
            "Episode 657/700, Score: -337.09963178815934 (1), AVG Score: 57.66368640550289\n",
            "Episode 658/700, Score: -539.4576317995839 (1), AVG Score: 53.21314069150909\n",
            "Episode 659/700, Score: -493.82457265469395 (1), AVG Score: 45.48503884948159\n",
            "Episode 660/700, Score: -680.4978475478595 (1), AVG Score: 36.71073311472715\n",
            "Episode 661/700, Score: -516.8148669088314 (1), AVG Score: 29.917369922716397\n",
            "Episode 662/700, Score: -781.5238964454401 (1), AVG Score: 19.29806560786098\n",
            "Episode 663/700, Score: -784.4717345900026 (1), AVG Score: 8.683601420887317\n",
            "Episode 664/700, Score: -581.0510444942511 (1), AVG Score: 0.1453297295762195\n",
            "Episode 665/700, Score: -419.27657192082796 (1), AVG Score: -6.541419427642611\n",
            "Episode 666/700, Score: -610.4079358514205 (1), AVG Score: -15.550610504106878\n",
            "Episode 667/700, Score: -681.5796133235788 (1), AVG Score: -23.789132702518035\n",
            "Episode 668/700, Score: -545.7691541511665 (1), AVG Score: -31.927659249063844\n",
            "Episode 669/700, Score: -446.0982035444042 (1), AVG Score: -39.067904981475394\n",
            "Episode 670/700, Score: -621.8560418038446 (1), AVG Score: -48.09133741720665\n",
            "Episode 671/700, Score: -653.1340371077647 (1), AVG Score: -57.47382091709274\n",
            "Episode 672/700, Score: -580.9833625522562 (1), AVG Score: -66.19854598546367\n",
            "Episode 673/700, Score: -613.4968640976233 (1), AVG Score: -74.65242769466839\n",
            "Episode 674/700, Score: -719.3780764782888 (1), AVG Score: -84.34842473699324\n",
            "Episode 675/700, Score: -597.7608736657864 (1), AVG Score: -92.68276314541787\n",
            "Episode 676/700, Score: -774.2604335622234 (1), AVG Score: -102.83171800013652\n",
            "Episode 677/700, Score: -571.4658400217772 (1), AVG Score: -111.3394958442208\n",
            "Episode 678/700, Score: -391.42260188770325 (1), AVG Score: -117.910127170502\n",
            "Episode 679/700, Score: -436.8083984276125 (1), AVG Score: -124.93517675271919\n",
            "Episode 680/700, Score: -468.28411287817613 (1), AVG Score: -131.24085372411648\n",
            "Episode 681/700, Score: -405.702315266578 (1), AVG Score: -135.02945993002547\n",
            "Episode 682/700, Score: -474.15137628668873 (1), AVG Score: -142.24143495695023\n",
            "Episode 683/700, Score: -407.8544857006102 (1), AVG Score: -149.13723170029326\n",
            "Episode 684/700, Score: -479.57423051660965 (1), AVG Score: -156.19576626383758\n",
            "Episode 685/700, Score: -509.84339054789433 (1), AVG Score: -164.10183712338426\n",
            "Episode 686/700, Score: -227.1549176298838 (1), AVG Score: -169.17949644759327\n",
            "Episode 687/700, Score: -418.8220737365527 (1), AVG Score: -175.854596866314\n",
            "Episode 688/700, Score: -553.3979632021403 (1), AVG Score: -181.7496353229701\n",
            "Episode 689/700, Score: -413.76019193647164 (1), AVG Score: -187.97908963239763\n",
            "Episode 690/700, Score: -267.4750029830677 (1), AVG Score: -193.30922179658938\n",
            "Episode 691/700, Score: -408.6280009450773 (1), AVG Score: -200.31782956161965\n",
            "Episode 692/700, Score: -315.98697034066925 (1), AVG Score: -205.93270307072132\n",
            "Episode 693/700, Score: -271.3962053079037 (1), AVG Score: -211.10256062042245\n",
            "Episode 694/700, Score: -292.27052838340467 (1), AVG Score: -216.5636060339258\n",
            "Episode 695/700, Score: -402.8849666134425 (1), AVG Score: -223.63727789491267\n",
            "Episode 696/700, Score: -559.4185321578223 (1), AVG Score: -231.88602006366912\n",
            "Episode 697/700, Score: -621.8108034769773 (1), AVG Score: -241.09871891937632\n",
            "Episode 698/700, Score: -682.8103175894205 (1), AVG Score: -250.81078149637258\n",
            "Episode 699/700, Score: -725.6689899880721 (1), AVG Score: -260.9758483796449\n"
          ]
        },
        {
          "data": {
            "text/html": [
              "Waiting for W&B process to finish... <strong style=\"color:green\">(success).</strong>"
            ],
            "text/plain": [
              "<IPython.core.display.HTML object>"
            ]
          },
          "metadata": {},
          "output_type": "display_data"
        },
        {
          "data": {
            "text/html": [
              "<style>\n",
              "    table.wandb td:nth-child(1) { padding: 0 10px; text-align: left ; width: auto;} td:nth-child(2) {text-align: left ; width: 100%}\n",
              "    .wandb-row { display: flex; flex-direction: row; flex-wrap: wrap; justify-content: flex-start; width: 100% }\n",
              "    .wandb-col { display: flex; flex-direction: column; flex-basis: 100%; flex: 1; padding: 10px; }\n",
              "    </style>\n",
              "<div class=\"wandb-row\"><div class=\"wandb-col\"><h3>Run history:</h3><br/><table class=\"wandb\"><tr><td>Avg-Reward-100e</td><td>▁▂▂▂▂▂▃▃▃▃▃▃▃▄▄▅▆▆▆▆▇▇▇▇▇▇▇▇███████▇▆▆▄▁</td></tr><tr><td>Episode</td><td>▁▁▁▁▂▂▂▂▂▃▃▃▃▃▃▄▄▄▄▄▅▅▅▅▅▅▆▆▆▆▆▇▇▇▇▇▇███</td></tr><tr><td>Reward</td><td>▅▅▅▅▅▆▅▆▅▆▆▅▆██▇▇▇███▅█▆████████▇██▅█▂▁▃</td></tr></table><br/></div><div class=\"wandb-col\"><h3>Run summary:</h3><br/><table class=\"wandb\"><tr><td>Avg-Reward-100e</td><td>-260.97585</td></tr><tr><td>Episode</td><td>699</td></tr><tr><td>Reward</td><td>-725.66899</td></tr></table><br/></div></div>"
            ],
            "text/plain": [
              "<IPython.core.display.HTML object>"
            ]
          },
          "metadata": {},
          "output_type": "display_data"
        },
        {
          "data": {
            "text/html": [
              " View run <strong style=\"color:#cdcd00\">valiant-sweep-1</strong> at: <a href=\"https://wandb.ai/lhurr/D3QN-TUNING/runs/89pyswg0\" target=\"_blank\">https://wandb.ai/lhurr/D3QN-TUNING/runs/89pyswg0</a><br/>Synced 5 W&B file(s), 0 media file(s), 0 artifact file(s) and 0 other file(s)"
            ],
            "text/plain": [
              "<IPython.core.display.HTML object>"
            ]
          },
          "metadata": {},
          "output_type": "display_data"
        },
        {
          "data": {
            "text/html": [
              "Find logs at: <code>./wandb/run-20230128_201727-89pyswg0/logs</code>"
            ],
            "text/plain": [
              "<IPython.core.display.HTML object>"
            ]
          },
          "metadata": {},
          "output_type": "display_data"
        },
        {
          "name": "stderr",
          "output_type": "stream",
          "text": [
            "\u001b[34m\u001b[1mwandb\u001b[0m: Agent Starting Run: zwvedbo3 with config:\n",
            "\u001b[34m\u001b[1mwandb\u001b[0m: \tepisodes: 700\n",
            "\u001b[34m\u001b[1mwandb\u001b[0m: \tepsilon: 1\n",
            "\u001b[34m\u001b[1mwandb\u001b[0m: \tgamma: 0.99\n",
            "\u001b[34m\u001b[1mwandb\u001b[0m: \tlr: 0.007107885028230527\n",
            "\u001b[34m\u001b[1mwandb\u001b[0m: \tupdate_target_net_interval: 50\n"
          ]
        },
        {
          "data": {
            "text/html": [
              "Tracking run with wandb version 0.13.9"
            ],
            "text/plain": [
              "<IPython.core.display.HTML object>"
            ]
          },
          "metadata": {},
          "output_type": "display_data"
        },
        {
          "data": {
            "text/html": [
              "Run data is saved locally in <code>/content/wandb/run-20230129_004310-zwvedbo3</code>"
            ],
            "text/plain": [
              "<IPython.core.display.HTML object>"
            ]
          },
          "metadata": {},
          "output_type": "display_data"
        },
        {
          "data": {
            "text/html": [
              "Syncing run <strong><a href=\"https://wandb.ai/lhurr/D3QN-TUNING/runs/zwvedbo3\" target=\"_blank\">dark-sweep-2</a></strong> to <a href=\"https://wandb.ai/lhurr/D3QN-TUNING\" target=\"_blank\">Weights & Biases</a> (<a href=\"https://wandb.me/run\" target=\"_blank\">docs</a>)<br/>Sweep page: <a href=\"https://wandb.ai/lhurr/D3QN-TUNING/sweeps/tvdet1ks\" target=\"_blank\">https://wandb.ai/lhurr/D3QN-TUNING/sweeps/tvdet1ks</a>"
            ],
            "text/plain": [
              "<IPython.core.display.HTML object>"
            ]
          },
          "metadata": {},
          "output_type": "display_data"
        },
        {
          "data": {
            "text/html": [
              " View project at <a href=\"https://wandb.ai/lhurr/D3QN-TUNING\" target=\"_blank\">https://wandb.ai/lhurr/D3QN-TUNING</a>"
            ],
            "text/plain": [
              "<IPython.core.display.HTML object>"
            ]
          },
          "metadata": {},
          "output_type": "display_data"
        },
        {
          "data": {
            "text/html": [
              " View sweep at <a href=\"https://wandb.ai/lhurr/D3QN-TUNING/sweeps/tvdet1ks\" target=\"_blank\">https://wandb.ai/lhurr/D3QN-TUNING/sweeps/tvdet1ks</a>"
            ],
            "text/plain": [
              "<IPython.core.display.HTML object>"
            ]
          },
          "metadata": {},
          "output_type": "display_data"
        },
        {
          "data": {
            "text/html": [
              " View run at <a href=\"https://wandb.ai/lhurr/D3QN-TUNING/runs/zwvedbo3\" target=\"_blank\">https://wandb.ai/lhurr/D3QN-TUNING/runs/zwvedbo3</a>"
            ],
            "text/plain": [
              "<IPython.core.display.HTML object>"
            ]
          },
          "metadata": {},
          "output_type": "display_data"
        },
        {
          "name": "stdout",
          "output_type": "stream",
          "text": [
            "Episode 0/700, Score: -556.2768432193695 (1), AVG Score: -556.2768432193695\n",
            "Episode 1/700, Score: -609.7870606482279 (1), AVG Score: -583.0319519337987\n",
            "Episode 2/700, Score: -548.9136973639638 (1), AVG Score: -571.6592004105204\n",
            "Episode 3/700, Score: -154.46974017227154 (1), AVG Score: -467.3618353509582\n",
            "Episode 4/700, Score: -126.67725326437083 (1), AVG Score: -399.2249189336407\n",
            "Episode 5/700, Score: -109.96013524883524 (1), AVG Score: -351.0141216528398\n",
            "Episode 6/700, Score: -198.9430079706303 (1), AVG Score: -329.28967684109557\n",
            "Episode 7/700, Score: -205.6876069029792 (1), AVG Score: -313.83941809883106\n",
            "Episode 8/700, Score: -187.96161267812073 (1), AVG Score: -299.85299527430766\n",
            "Episode 9/700, Score: -42.516691698152115 (1), AVG Score: -274.1193649166921\n",
            "Episode 10/700, Score: -130.67587199522023 (1), AVG Score: -261.0790473783765\n",
            "Episode 11/700, Score: -54.92498393891387 (1), AVG Score: -243.89954209175463\n",
            "Episode 12/700, Score: -221.99290482386812 (1), AVG Score: -242.21441614807105\n",
            "Episode 13/700, Score: -23.072531948872367 (1), AVG Score: -226.5614244195569\n",
            "Episode 14/700, Score: -289.77134169274126 (1), AVG Score: -230.77541890443584\n",
            "Episode 15/700, Score: -311.94788965875046 (1), AVG Score: -235.84869832658046\n",
            "Episode 16/700, Score: -46.51700668332931 (1), AVG Score: -224.7115399946245\n",
            "Episode 17/700, Score: -201.69764755079606 (1), AVG Score: -223.43299041441182\n",
            "Episode 18/700, Score: -109.40889772907471 (1), AVG Score: -217.43172237834145\n",
            "Episode 19/700, Score: -197.69220880747656 (1), AVG Score: -216.44474669979817\n"
          ]
        }
      ],
      "source": [
        "wandb.agent(sweep_id, train, count=50, entity=\"lhurr\", project=project_name)"
      ]
    },
    {
      "attachments": {},
      "cell_type": "markdown",
      "metadata": {},
      "source": [
        "- It seems that we are unable to complete the tuning due to limited resources available (over 10 hours).\n",
        "- We are also not able to find a suitable hyperparameter that is optimal. Now we will move on to evaluation."
      ]
    },
    {
      "cell_type": "code",
      "execution_count": 1,
      "metadata": {},
      "outputs": [
        {
          "name": "stderr",
          "output_type": "stream",
          "text": [
            "[NbConvertApp] Converting notebook 6_Tuning.ipynb to html\n",
            "C:\\Users\\limhu\\anaconda3\\lib\\site-packages\\nbconvert\\filters\\widgetsdatatypefilter.py:69: UserWarning: Your element with mimetype(s) dict_keys(['application/vnd.colab-display-data+json']) is not able to be represented.\n",
            "  warn(\"Your element with mimetype(s) {mimetypes}\"\n",
            "[NbConvertApp] Writing 699373 bytes to 6_Tuning.html\n"
          ]
        }
      ],
      "source": [
        "!jupyter nbconvert --to html \"6_Tuning\".ipynb"
      ]
    }
  ],
  "metadata": {
    "colab": {
      "provenance": []
    },
    "gpuClass": "standard",
    "kernelspec": {
      "display_name": "base",
      "language": "python",
      "name": "python3"
    },
    "language_info": {
      "codemirror_mode": {
        "name": "ipython",
        "version": 3
      },
      "file_extension": ".py",
      "mimetype": "text/x-python",
      "name": "python",
      "nbconvert_exporter": "python",
      "pygments_lexer": "ipython3",
      "version": "3.8.13"
    },
    "vscode": {
      "interpreter": {
        "hash": "8115c509434e7e4682577b1bb641dd6e40a9781d5ef10df97e95fee9ac99dd9b"
      }
    }
  },
  "nbformat": 4,
  "nbformat_minor": 0
}
